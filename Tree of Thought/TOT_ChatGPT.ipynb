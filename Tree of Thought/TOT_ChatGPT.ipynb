{
 "cells": [
  {
   "cell_type": "code",
   "execution_count": 15,
   "id": "BGKzwUR8YziM",
   "metadata": {
    "colab": {
     "base_uri": "https://localhost:8080/"
    },
    "id": "BGKzwUR8YziM",
    "outputId": "3185bd44-dd2e-46e5-ad08-61f4e3e8fa55"
   },
   "outputs": [
    {
     "name": "stdout",
     "output_type": "stream",
     "text": [
      "Requirement already satisfied: openai in /usr/local/lib/python3.10/dist-packages (1.42.0)\n",
      "Requirement already satisfied: anyio<5,>=3.5.0 in /usr/local/lib/python3.10/dist-packages (from openai) (3.7.1)\n",
      "Requirement already satisfied: distro<2,>=1.7.0 in /usr/lib/python3/dist-packages (from openai) (1.7.0)\n",
      "Requirement already satisfied: httpx<1,>=0.23.0 in /usr/local/lib/python3.10/dist-packages (from openai) (0.27.0)\n",
      "Requirement already satisfied: jiter<1,>=0.4.0 in /usr/local/lib/python3.10/dist-packages (from openai) (0.5.0)\n",
      "Requirement already satisfied: pydantic<3,>=1.9.0 in /usr/local/lib/python3.10/dist-packages (from openai) (2.8.2)\n",
      "Requirement already satisfied: sniffio in /usr/local/lib/python3.10/dist-packages (from openai) (1.3.1)\n",
      "Requirement already satisfied: tqdm>4 in /usr/local/lib/python3.10/dist-packages (from openai) (4.66.5)\n",
      "Requirement already satisfied: typing-extensions<5,>=4.11 in /usr/local/lib/python3.10/dist-packages (from openai) (4.12.2)\n",
      "Requirement already satisfied: idna>=2.8 in /usr/local/lib/python3.10/dist-packages (from anyio<5,>=3.5.0->openai) (3.7)\n",
      "Requirement already satisfied: exceptiongroup in /usr/local/lib/python3.10/dist-packages (from anyio<5,>=3.5.0->openai) (1.2.2)\n",
      "Requirement already satisfied: certifi in /usr/local/lib/python3.10/dist-packages (from httpx<1,>=0.23.0->openai) (2024.7.4)\n",
      "Requirement already satisfied: httpcore==1.* in /usr/local/lib/python3.10/dist-packages (from httpx<1,>=0.23.0->openai) (1.0.5)\n",
      "Requirement already satisfied: h11<0.15,>=0.13 in /usr/local/lib/python3.10/dist-packages (from httpcore==1.*->httpx<1,>=0.23.0->openai) (0.14.0)\n",
      "Requirement already satisfied: annotated-types>=0.4.0 in /usr/local/lib/python3.10/dist-packages (from pydantic<3,>=1.9.0->openai) (0.7.0)\n",
      "Requirement already satisfied: pydantic-core==2.20.1 in /usr/local/lib/python3.10/dist-packages (from pydantic<3,>=1.9.0->openai) (2.20.1)\n"
     ]
    }
   ],
   "source": [
    "pip install openai"
   ]
  },
  {
   "cell_type": "code",
   "execution_count": 16,
   "id": "ef9de964-9dca-441c-8a0c-f3789c890062",
   "metadata": {
    "id": "ef9de964-9dca-441c-8a0c-f3789c890062"
   },
   "outputs": [],
   "source": [
    "from openai import OpenAI\n",
    "import os"
   ]
  },
  {
   "cell_type": "code",
   "execution_count": 17,
   "id": "f1a114af",
   "metadata": {
    "id": "f1a114af"
   },
   "outputs": [],
   "source": [
    "# Generate API KEY from OPENAI website and define as a variable.\n",
    "os.environ[\"OPENAI_API_KEY\"] = \"YOUR_API_KEY\""
   ]
  },
  {
   "cell_type": "code",
   "execution_count": 18,
   "id": "40385371",
   "metadata": {
    "id": "40385371"
   },
   "outputs": [],
   "source": [
    "# Create the language model\n",
    "llm1 = OpenAI()"
   ]
  },
  {
   "cell_type": "code",
   "execution_count": 19,
   "id": "ab115476",
   "metadata": {
    "id": "ab115476"
   },
   "outputs": [],
   "source": [
    "def domestic_market_competition(query, llm):\n",
    "\n",
    "    full_query = f\"\\nUser: {query}\"\n",
    "\n",
    "    system_content = \"\"\"Based on the user's input, respond from the perspective of 'Domestic Market Competition.'\"\"\"\n",
    "\n",
    "    messages = [\n",
    "        {\"role\": \"system\", \"content\": f\"{system_content}\"},\n",
    "        {\"role\": \"user\", \"content\": full_query}\n",
    "    ]\n",
    "\n",
    "    chain1 = llm.chat.completions.create(\n",
    "        model=\"gpt-3.5-turbo-16k\",\n",
    "        messages=messages\n",
    "    )\n",
    "\n",
    "    result = chain1.choices[0].message.content\n",
    "    return result"
   ]
  },
  {
   "cell_type": "code",
   "execution_count": 20,
   "id": "tH7tsc7VQlta",
   "metadata": {
    "id": "tH7tsc7VQlta"
   },
   "outputs": [],
   "source": [
    "def price_undercutting(query, llm):\n",
    "\n",
    "    full_query = f\"\\nUser: {query}\"\n",
    "\n",
    "    system_content = \"\"\"Based on the user's input, respond from the perspective of 'Price Undercutting.'\n",
    "                        Effect on Thai producers and small businesses.\n",
    "                        Sectors most vulnerable to Chinese price competition.\"\"\"\n",
    "\n",
    "    messages = [\n",
    "        {\"role\": \"system\", \"content\": f\"{system_content}\"},\n",
    "        {\"role\": \"user\", \"content\": full_query}\n",
    "    ]\n",
    "\n",
    "    chain1 = llm.chat.completions.create(\n",
    "        model=\"gpt-3.5-turbo-16k\",\n",
    "        messages=messages\n",
    "    )\n",
    "\n",
    "    result = chain1.choices[0].message.content\n",
    "    return result\n",
    "    return result"
   ]
  },
  {
   "cell_type": "code",
   "execution_count": 21,
   "id": "P_Jun9ouSE06",
   "metadata": {
    "id": "P_Jun9ouSE06"
   },
   "outputs": [],
   "source": [
    "def market_share_losses(query, llm):\n",
    "\n",
    "    full_query = f\"\\nUser: {query}\"\n",
    "\n",
    "    system_content = \"\"\"Based on the user's input, respond from the perspective of 'Market Share Losses.'\n",
    "                        Displacement of local products by cheaper Chinese alternatives.\n",
    "                        Survival strategies for Thai businesses.\"\"\"\n",
    "\n",
    "    messages = [\n",
    "        {\"role\": \"system\", \"content\": f\"{system_content}\"},\n",
    "        {\"role\": \"user\", \"content\": full_query}\n",
    "    ]\n",
    "\n",
    "    chain1 = llm.chat.completions.create(\n",
    "        model=\"gpt-3.5-turbo-16k\",\n",
    "        messages=messages\n",
    "    )\n",
    "\n",
    "    result = chain1.choices[0].message.content\n",
    "    return result\n",
    "    return result"
   ]
  },
  {
   "cell_type": "code",
   "execution_count": 22,
   "id": "84EXyt-tSlTO",
   "metadata": {
    "id": "84EXyt-tSlTO"
   },
   "outputs": [],
   "source": [
    "def innovation_and_quality_improvement(query, llm):\n",
    "\n",
    "    full_query = f\"\\nUser: {query}\"\n",
    "\n",
    "    system_content = \"\"\"Based on the user's input, respond from the perspective of 'Innovation and Quality Improvement.'\n",
    "                        Need for innovation in Thai industries to compete on quality rather than price.\n",
    "                        Investments in technology and R&D by Thai companies.\"\"\"\n",
    "\n",
    "    messages = [\n",
    "        {\"role\": \"system\", \"content\": f\"{system_content}\"},\n",
    "        {\"role\": \"user\", \"content\": full_query}\n",
    "    ]\n",
    "\n",
    "    chain1 = llm.chat.completions.create(\n",
    "        model=\"gpt-3.5-turbo-16k\",\n",
    "        messages=messages\n",
    "    )\n",
    "\n",
    "    result = chain1.choices[0].message.content\n",
    "    return result\n",
    "    return result"
   ]
  },
  {
   "cell_type": "code",
   "execution_count": 23,
   "id": "SKZ-_Jf5UMuf",
   "metadata": {
    "id": "SKZ-_Jf5UMuf"
   },
   "outputs": [],
   "source": [
    "def consumer_behavior(query, llm):\n",
    "\n",
    "    full_query = f\"\\nUser: {query}\"\n",
    "\n",
    "    system_content = \"\"\"Based on the user's input, respond from the perspective of 'Consumer Behavior.'\"\"\"\n",
    "\n",
    "    messages = [\n",
    "        {\"role\": \"system\", \"content\": f\"{system_content}\"},\n",
    "        {\"role\": \"user\", \"content\": full_query}\n",
    "    ]\n",
    "\n",
    "    chain1 = llm.chat.completions.create(\n",
    "        model=\"gpt-3.5-turbo-16k\",\n",
    "        messages=messages\n",
    "    )\n",
    "\n",
    "    result = chain1.choices[0].message.content\n",
    "    return result"
   ]
  },
  {
   "cell_type": "code",
   "execution_count": 24,
   "id": "0nhm501DUdy-",
   "metadata": {
    "id": "0nhm501DUdy-"
   },
   "outputs": [],
   "source": [
    "def demand_for_cheaper_goods(query, llm):\n",
    "\n",
    "    full_query = f\"\\nUser: {query}\"\n",
    "\n",
    "    system_content = \"\"\"Based on the user's input, respond from the perspective of 'Demand for Cheaper Goods.'\n",
    "                        Shift in consumer preferences toward lower-cost Chinese products.\n",
    "                        Impact on local brands and traditional products.\"\"\"\n",
    "\n",
    "    messages = [\n",
    "        {\"role\": \"system\", \"content\": f\"{system_content}\"},\n",
    "        {\"role\": \"user\", \"content\": full_query}\n",
    "    ]\n",
    "\n",
    "    chain1 = llm.chat.completions.create(\n",
    "        model=\"gpt-3.5-turbo-16k\",\n",
    "        messages=messages\n",
    "    )\n",
    "\n",
    "    result = chain1.choices[0].message.content\n",
    "    return result"
   ]
  },
  {
   "cell_type": "code",
   "execution_count": 25,
   "id": "dnV41pX0U4zZ",
   "metadata": {
    "id": "dnV41pX0U4zZ"
   },
   "outputs": [],
   "source": [
    "def disposable_income_and_spending_patterns(query, llm):\n",
    "\n",
    "    full_query = f\"\\nUser: {query}\"\n",
    "\n",
    "    system_content = \"\"\"Based on the user's input, respond from the perspective of 'Disposable Income and Spending Patterns.'\n",
    "                        Increase in consumer spending power due to lower prices.\n",
    "                        Changes in household consumption patterns.\"\"\"\n",
    "\n",
    "    messages = [\n",
    "        {\"role\": \"system\", \"content\": f\"{system_content}\"},\n",
    "        {\"role\": \"user\", \"content\": full_query}\n",
    "    ]\n",
    "\n",
    "    chain1 = llm.chat.completions.create(\n",
    "        model=\"gpt-3.5-turbo-16k\",\n",
    "        messages=messages\n",
    "    )\n",
    "\n",
    "    result = chain1.choices[0].message.content\n",
    "    return result"
   ]
  },
  {
   "cell_type": "code",
   "execution_count": 26,
   "id": "WdwghdDYVb7_",
   "metadata": {
    "id": "WdwghdDYVb7_"
   },
   "outputs": [],
   "source": [
    "def brand_layalty_and_perception(query, llm):\n",
    "\n",
    "    full_query = f\"\\nUser: {query}\"\n",
    "\n",
    "    system_content = \"\"\"Based on the user's input, respond from the perspective of 'Brand Loyalty and Perception.'\n",
    "                        Erosion of brand loyalty for Thai products.\n",
    "                        Perception of Chinese goods in the Thai market.\"\"\"\n",
    "\n",
    "    messages = [\n",
    "        {\"role\": \"system\", \"content\": f\"{system_content}\"},\n",
    "        {\"role\": \"user\", \"content\": full_query}\n",
    "    ]\n",
    "\n",
    "    chain1 = llm.chat.completions.create(\n",
    "        model=\"gpt-3.5-turbo-16k\",\n",
    "        messages=messages\n",
    "    )\n",
    "\n",
    "    result = chain1.choices[0].message.content\n",
    "    return result"
   ]
  },
  {
   "cell_type": "code",
   "execution_count": 27,
   "id": "3uyEz34HWaTO",
   "metadata": {
    "id": "3uyEz34HWaTO"
   },
   "outputs": [],
   "source": [
    "def make_conclusion(query, llm):\n",
    "\n",
    "    full_query = f\"\\nUser: {query}\"\n",
    "\n",
    "    system_content = \"\"\"Based on the user's input, draw the best conclusion\"\"\"\n",
    "\n",
    "    messages = [\n",
    "        {\"role\": \"system\", \"content\": f\"{system_content}\"},\n",
    "        {\"role\": \"user\", \"content\": full_query}\n",
    "    ]\n",
    "\n",
    "    chain1 = llm.chat.completions.create(\n",
    "        model=\"gpt-3.5-turbo-16k\",\n",
    "        messages=messages\n",
    "    )\n",
    "\n",
    "    result = chain1.choices[0].message.content\n",
    "    return result"
   ]
  },
  {
   "cell_type": "code",
   "execution_count": 28,
   "id": "ee4cdea9",
   "metadata": {
    "id": "ee4cdea9"
   },
   "outputs": [],
   "source": [
    "query = \"What is the potential impact of Chinese price war on Thailand economy?\"\n",
    "\n",
    "response_domestic_market_competition = domestic_market_competition(query, llm1)\n",
    "response_price_undercutting = price_undercutting(response_domestic_market_competition, llm1)\n",
    "response_market_share_losses = market_share_losses(response_domestic_market_competition, llm1)\n",
    "response_response_domestic_market_competition = innovation_and_quality_improvement(response_domestic_market_competition, llm1)\n",
    "\n",
    "response_consumer_behavior = consumer_behavior(query, llm1)\n",
    "response_demand_for_cheaper_goods = demand_for_cheaper_goods(response_consumer_behavior, llm1)\n",
    "response_disposable_income_and_spending_patterns = disposable_income_and_spending_patterns(response_consumer_behavior, llm1)\n",
    "response_brand_layalty_and_perception = brand_layalty_and_perception(response_consumer_behavior, llm1)\n",
    "\n",
    "final_query = response_price_undercutting + \\\n",
    "              response_market_share_losses + \\\n",
    "              response_response_domestic_market_competition + \\\n",
    "              response_demand_for_cheaper_goods + \\\n",
    "              response_disposable_income_and_spending_patterns + \\\n",
    "              response_brand_layalty_and_perception\n",
    "\n",
    "final_response = make_conclusion(final_query, llm1)"
   ]
  },
  {
   "cell_type": "code",
   "execution_count": 29,
   "id": "2ew8thFeXd1P",
   "metadata": {
    "colab": {
     "base_uri": "https://localhost:8080/"
    },
    "id": "2ew8thFeXd1P",
    "outputId": "12694db8-bb30-4b87-ba62-07a7b41b2f2f"
   },
   "outputs": [
    {
     "name": "stdout",
     "output_type": "stream",
     "text": [
      "Conclusion: The potential impact of a Chinese price war on the Thai economy is a multi-faceted issue that warrants concern from domestic businesses. Sectors where China has a comparative advantage and small businesses may be particularly vulnerable to price competition. To navigate the challenges posed by price undercutting, Thai producers and small businesses should consider strategies such as product differentiation, focusing on niche markets, exploring new export markets, and seeking government support. Additionally, investing in innovation and quality improvement, diversifying product offerings and markets, and adapting to changes in consumer behavior are crucial for Thai industries to remain competitive. It is important for policymakers to support local businesses and implement measures that promote productivity, innovation, and collaboration. Brand loyalty and perception also need to be carefully managed to counteract the potential erosion of brand loyalty and maintain a competitive edge in the market.\n"
     ]
    }
   ],
   "source": [
    "final_response"
   ]
  }
 ],
 "metadata": {
  "colab": {
   "provenance": []
  },
  "kernelspec": {
   "display_name": "Python 3 (ipykernel)",
   "language": "python",
   "name": "python3"
  },
  "language_info": {
   "codemirror_mode": {
    "name": "ipython",
    "version": 3
   },
   "file_extension": ".py",
   "mimetype": "text/x-python",
   "name": "python",
   "nbconvert_exporter": "python",
   "pygments_lexer": "ipython3",
   "version": "3.11.7"
  }
 },
 "nbformat": 4,
 "nbformat_minor": 5
}
