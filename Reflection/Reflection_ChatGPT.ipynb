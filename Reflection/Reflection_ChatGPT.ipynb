{
  "cells": [
    {
      "cell_type": "code",
      "execution_count": 1,
      "id": "BGKzwUR8YziM",
      "metadata": {
        "colab": {
          "base_uri": "https://localhost:8080/"
        },
        "id": "BGKzwUR8YziM",
        "outputId": "c04eac47-62b9-4ab0-e174-0c0d488f775a"
      },
      "outputs": [
        {
          "name": "stdout",
          "output_type": "stream",
          "text": [
            "Collecting openai\n",
            "  Downloading openai-1.42.0-py3-none-any.whl.metadata (22 kB)\n",
            "Requirement already satisfied: anyio<5,>=3.5.0 in /usr/local/lib/python3.10/dist-packages (from openai) (3.7.1)\n",
            "Requirement already satisfied: distro<2,>=1.7.0 in /usr/lib/python3/dist-packages (from openai) (1.7.0)\n",
            "Collecting httpx<1,>=0.23.0 (from openai)\n",
            "  Downloading httpx-0.27.0-py3-none-any.whl.metadata (7.2 kB)\n",
            "Collecting jiter<1,>=0.4.0 (from openai)\n",
            "  Downloading jiter-0.5.0-cp310-cp310-manylinux_2_17_x86_64.manylinux2014_x86_64.whl.metadata (3.6 kB)\n",
            "Requirement already satisfied: pydantic<3,>=1.9.0 in /usr/local/lib/python3.10/dist-packages (from openai) (2.8.2)\n",
            "Requirement already satisfied: sniffio in /usr/local/lib/python3.10/dist-packages (from openai) (1.3.1)\n",
            "Requirement already satisfied: tqdm>4 in /usr/local/lib/python3.10/dist-packages (from openai) (4.66.5)\n",
            "Requirement already satisfied: typing-extensions<5,>=4.11 in /usr/local/lib/python3.10/dist-packages (from openai) (4.12.2)\n",
            "Requirement already satisfied: idna>=2.8 in /usr/local/lib/python3.10/dist-packages (from anyio<5,>=3.5.0->openai) (3.7)\n",
            "Requirement already satisfied: exceptiongroup in /usr/local/lib/python3.10/dist-packages (from anyio<5,>=3.5.0->openai) (1.2.2)\n",
            "Requirement already satisfied: certifi in /usr/local/lib/python3.10/dist-packages (from httpx<1,>=0.23.0->openai) (2024.7.4)\n",
            "Collecting httpcore==1.* (from httpx<1,>=0.23.0->openai)\n",
            "  Downloading httpcore-1.0.5-py3-none-any.whl.metadata (20 kB)\n",
            "Collecting h11<0.15,>=0.13 (from httpcore==1.*->httpx<1,>=0.23.0->openai)\n",
            "  Downloading h11-0.14.0-py3-none-any.whl.metadata (8.2 kB)\n",
            "Requirement already satisfied: annotated-types>=0.4.0 in /usr/local/lib/python3.10/dist-packages (from pydantic<3,>=1.9.0->openai) (0.7.0)\n",
            "Requirement already satisfied: pydantic-core==2.20.1 in /usr/local/lib/python3.10/dist-packages (from pydantic<3,>=1.9.0->openai) (2.20.1)\n",
            "Downloading openai-1.42.0-py3-none-any.whl (362 kB)\n",
            "\u001b[2K   \u001b[90m━━━━━━━━━━━━━━━━━━━━━━━━━━━━━━━━━━━━━━━━\u001b[0m \u001b[32m362.9/362.9 kB\u001b[0m \u001b[31m18.5 MB/s\u001b[0m eta \u001b[36m0:00:00\u001b[0m\n",
            "\u001b[?25hDownloading httpx-0.27.0-py3-none-any.whl (75 kB)\n",
            "\u001b[2K   \u001b[90m━━━━━━━━━━━━━━━━━━━━━━━━━━━━━━━━━━━━━━━━\u001b[0m \u001b[32m75.6/75.6 kB\u001b[0m \u001b[31m5.0 MB/s\u001b[0m eta \u001b[36m0:00:00\u001b[0m\n",
            "\u001b[?25hDownloading httpcore-1.0.5-py3-none-any.whl (77 kB)\n",
            "\u001b[2K   \u001b[90m━━━━━━━━━━━━━━━━━━━━━━━━━━━━━━━━━━━━━━━━\u001b[0m \u001b[32m77.9/77.9 kB\u001b[0m \u001b[31m4.8 MB/s\u001b[0m eta \u001b[36m0:00:00\u001b[0m\n",
            "\u001b[?25hDownloading jiter-0.5.0-cp310-cp310-manylinux_2_17_x86_64.manylinux2014_x86_64.whl (318 kB)\n",
            "\u001b[2K   \u001b[90m━━━━━━━━━━━━━━━━━━━━━━━━━━━━━━━━━━━━━━━━\u001b[0m \u001b[32m318.9/318.9 kB\u001b[0m \u001b[31m20.5 MB/s\u001b[0m eta \u001b[36m0:00:00\u001b[0m\n",
            "\u001b[?25hDownloading h11-0.14.0-py3-none-any.whl (58 kB)\n",
            "\u001b[2K   \u001b[90m━━━━━━━━━━━━━━━━━━━━━━━━━━━━━━━━━━━━━━━━\u001b[0m \u001b[32m58.3/58.3 kB\u001b[0m \u001b[31m4.0 MB/s\u001b[0m eta \u001b[36m0:00:00\u001b[0m\n",
            "\u001b[?25hInstalling collected packages: jiter, h11, httpcore, httpx, openai\n",
            "Successfully installed h11-0.14.0 httpcore-1.0.5 httpx-0.27.0 jiter-0.5.0 openai-1.42.0\n"
          ]
        }
      ],
      "source": [
        "pip install openai"
      ]
    },
    {
      "cell_type": "code",
      "execution_count": 2,
      "id": "ef9de964-9dca-441c-8a0c-f3789c890062",
      "metadata": {
        "id": "ef9de964-9dca-441c-8a0c-f3789c890062"
      },
      "outputs": [],
      "source": [
        "from openai import OpenAI\n",
        "import os"
      ]
    },
    {
      "cell_type": "code",
      "execution_count": 3,
      "id": "f1a114af",
      "metadata": {
        "id": "f1a114af"
      },
      "outputs": [],
      "source": [
        "# Generate API KEY from OPENAI website and define as a variable.\n",
        "os.environ[\"OPENAI_API_KEY\"] = \"YOUR_API_KEY\""
      ]
    },
    {
      "cell_type": "code",
      "execution_count": 4,
      "id": "40385371",
      "metadata": {
        "id": "40385371"
      },
      "outputs": [],
      "source": [
        "# Create the language model\n",
        "llm1 = OpenAI()"
      ]
    },
    {
      "cell_type": "code",
      "execution_count": 5,
      "id": "ab115476",
      "metadata": {
        "id": "ab115476"
      },
      "outputs": [],
      "source": [
        "def economist(query, llm):\n",
        "\n",
        "    full_query = f\"\\nUser: {query}\"\n",
        "\n",
        "    system_content = \"\"\"You are expert economist.'\"\"\"\n",
        "\n",
        "    messages = [\n",
        "        {\"role\": \"system\", \"content\": f\"{system_content}\"},\n",
        "        {\"role\": \"user\", \"content\": full_query}\n",
        "    ]\n",
        "\n",
        "    chain1 = llm.chat.completions.create(\n",
        "        model=\"gpt-3.5-turbo-16k\",\n",
        "        messages=messages\n",
        "    )\n",
        "\n",
        "    result = chain1.choices[0].message.content\n",
        "    return result"
      ]
    },
    {
      "cell_type": "code",
      "execution_count": 6,
      "id": "4IK-qZA_rkod",
      "metadata": {
        "id": "4IK-qZA_rkod"
      },
      "outputs": [],
      "source": [
        "def editor(query, llm):\n",
        "\n",
        "    full_query = f\"\\nUser: {query}\"\n",
        "\n",
        "    system_content = \"\"\"You are expert editor and expert economist.\n",
        "                        Your role is reading user's input and finding the perspective that not in user's input.\n",
        "                        You can write more about your opinion in the perspective that you found.\n",
        "                        In the parts, that you are agree with, you can follow the same content.\n",
        "                        In the parts, that you are not agree with, you can edit it.\n",
        "                        Then, write it all again\"\"\"\n",
        "\n",
        "    messages = [\n",
        "        {\"role\": \"system\", \"content\": f\"{system_content}\"},\n",
        "        {\"role\": \"user\", \"content\": full_query}\n",
        "    ]\n",
        "\n",
        "    chain1 = llm.chat.completions.create(\n",
        "        model=\"gpt-3.5-turbo-16k\",\n",
        "        messages=messages\n",
        "    )\n",
        "\n",
        "    result = chain1.choices[0].message.content\n",
        "    return result"
      ]
    },
    {
      "cell_type": "code",
      "execution_count": 7,
      "id": "P8ZRYAnXtivL",
      "metadata": {
        "id": "P8ZRYAnXtivL"
      },
      "outputs": [],
      "source": [
        "def final_editor(query, llm):\n",
        "\n",
        "    full_query = f\"\\nUser: {query}\"\n",
        "\n",
        "    system_content = \"\"\"You are expert editor and expert economist.\n",
        "                        rewrite it with fluent language.\"\"\"\n",
        "\n",
        "    messages = [\n",
        "        {\"role\": \"system\", \"content\": f\"{system_content}\"},\n",
        "        {\"role\": \"user\", \"content\": full_query}\n",
        "    ]\n",
        "\n",
        "    chain1 = llm.chat.completions.create(\n",
        "        model=\"gpt-3.5-turbo-16k\",\n",
        "        messages=messages\n",
        "    )\n",
        "\n",
        "    result = chain1.choices[0].message.content\n",
        "    return result"
      ]
    },
    {
      "cell_type": "code",
      "execution_count": 8,
      "id": "ee4cdea9",
      "metadata": {
        "id": "ee4cdea9"
      },
      "outputs": [],
      "source": [
        "query = \"What is the potential impact of Chinese price war on Thailand economy?\"\n",
        "\n",
        "response_economist = economist(query, llm1)\n",
        "response_editor = editor(response_economist, llm1)\n",
        "respones_final_editor = final_editor(response_editor, llm1)"
      ]
    },
    {
      "cell_type": "code",
      "execution_count": 9,
      "id": "2ew8thFeXd1P",
      "metadata": {
        "colab": {
          "base_uri": "https://localhost:8080/",
          "height": 143
        },
        "id": "2ew8thFeXd1P",
        "outputId": "1f3fa033-4463-4f35-8345-ac4f788f53ca"
      },
      "outputs": [
        {
          "data": {
            "application/vnd.google.colaboratory.intrinsic+json": {
              "type": "string"
            },
            "text/plain": [
              "\"Perspective: One important perspective that the user's input does not explicitly mention is the potential impact of Chinese price wars on Thailand's overall trade balance. While it is true that cheaper Chinese goods can benefit Thai consumers and businesses, it is essential to also consider the effect on Thailand's export sector.\\n\\nThailand heavily relies on exporting goods to China, and a price war could potentially harm its competitiveness in the Chinese market. The preference of Chinese consumers for cheaper goods manufactured in China poses a risk of reduced export demand for Thai products. This, in turn, could have a negative impact on Thai manufacturers and exporters, leading to decreased revenue and job losses in sectors of the economy that are heavily reliant on exports.\\n\\nMoreover, if Thai industries struggle to compete with the influx of cheaper Chinese goods in the domestic market, the country may become more dependent on imports from China. This trade imbalance could potentially worsen Thailand's trade deficit, which could have long-term consequences for the overall economic stability of the country.\\n\\nWhile the positive aspects of more affordable imports cannot be overlooked, it is crucial to assess the potential adverse effects on Thailand's export-oriented sectors and trade balance. Policymakers should carefully consider implementing strategies that support domestic industries, enhance competitiveness, diversify exports, and possibly negotiate trade agreements to mitigate the negative impacts of Chinese price wars.\""
            ]
          },
          "execution_count": 9,
          "metadata": {},
          "output_type": "execute_result"
        }
      ],
      "source": [
        "respones_final_editor"
      ]
    },
    {
      "cell_type": "code",
      "execution_count": 9,
      "id": "jVqVi2S4aI6s",
      "metadata": {
        "id": "jVqVi2S4aI6s"
      },
      "outputs": [],
      "source": []
    }
  ],
  "metadata": {
    "colab": {
      "provenance": []
    },
    "kernelspec": {
      "display_name": "Python 3 (ipykernel)",
      "language": "python",
      "name": "python3"
    },
    "language_info": {
      "codemirror_mode": {
        "name": "ipython",
        "version": 3
      },
      "file_extension": ".py",
      "mimetype": "text/x-python",
      "name": "python",
      "nbconvert_exporter": "python",
      "pygments_lexer": "ipython3",
      "version": "3.11.7"
    }
  },
  "nbformat": 4,
  "nbformat_minor": 5
}
