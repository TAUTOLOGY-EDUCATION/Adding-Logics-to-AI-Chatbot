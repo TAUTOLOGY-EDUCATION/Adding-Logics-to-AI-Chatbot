{
  "cells": [
    {
      "cell_type": "code",
      "execution_count": 1,
      "id": "BGKzwUR8YziM",
      "metadata": {
        "colab": {
          "base_uri": "https://localhost:8080/"
        },
        "id": "BGKzwUR8YziM",
        "outputId": "b4ceede7-c76b-488c-fad4-5d7bebb78866"
      },
      "outputs": [
        {
          "name": "stdout",
          "output_type": "stream",
          "text": [
            "Collecting anthropic\n",
            "  Downloading anthropic-0.34.1-py3-none-any.whl.metadata (18 kB)\n",
            "Requirement already satisfied: anyio<5,>=3.5.0 in /usr/local/lib/python3.10/dist-packages (from anthropic) (3.7.1)\n",
            "Requirement already satisfied: distro<2,>=1.7.0 in /usr/lib/python3/dist-packages (from anthropic) (1.7.0)\n",
            "Collecting httpx<1,>=0.23.0 (from anthropic)\n",
            "  Downloading httpx-0.27.0-py3-none-any.whl.metadata (7.2 kB)\n",
            "Collecting jiter<1,>=0.4.0 (from anthropic)\n",
            "  Downloading jiter-0.5.0-cp310-cp310-manylinux_2_17_x86_64.manylinux2014_x86_64.whl.metadata (3.6 kB)\n",
            "Requirement already satisfied: pydantic<3,>=1.9.0 in /usr/local/lib/python3.10/dist-packages (from anthropic) (2.8.2)\n",
            "Requirement already satisfied: sniffio in /usr/local/lib/python3.10/dist-packages (from anthropic) (1.3.1)\n",
            "Requirement already satisfied: tokenizers>=0.13.0 in /usr/local/lib/python3.10/dist-packages (from anthropic) (0.19.1)\n",
            "Requirement already satisfied: typing-extensions<5,>=4.7 in /usr/local/lib/python3.10/dist-packages (from anthropic) (4.12.2)\n",
            "Requirement already satisfied: idna>=2.8 in /usr/local/lib/python3.10/dist-packages (from anyio<5,>=3.5.0->anthropic) (3.7)\n",
            "Requirement already satisfied: exceptiongroup in /usr/local/lib/python3.10/dist-packages (from anyio<5,>=3.5.0->anthropic) (1.2.2)\n",
            "Requirement already satisfied: certifi in /usr/local/lib/python3.10/dist-packages (from httpx<1,>=0.23.0->anthropic) (2024.7.4)\n",
            "Collecting httpcore==1.* (from httpx<1,>=0.23.0->anthropic)\n",
            "  Downloading httpcore-1.0.5-py3-none-any.whl.metadata (20 kB)\n",
            "Collecting h11<0.15,>=0.13 (from httpcore==1.*->httpx<1,>=0.23.0->anthropic)\n",
            "  Downloading h11-0.14.0-py3-none-any.whl.metadata (8.2 kB)\n",
            "Requirement already satisfied: annotated-types>=0.4.0 in /usr/local/lib/python3.10/dist-packages (from pydantic<3,>=1.9.0->anthropic) (0.7.0)\n",
            "Requirement already satisfied: pydantic-core==2.20.1 in /usr/local/lib/python3.10/dist-packages (from pydantic<3,>=1.9.0->anthropic) (2.20.1)\n",
            "Requirement already satisfied: huggingface-hub<1.0,>=0.16.4 in /usr/local/lib/python3.10/dist-packages (from tokenizers>=0.13.0->anthropic) (0.23.5)\n",
            "Requirement already satisfied: filelock in /usr/local/lib/python3.10/dist-packages (from huggingface-hub<1.0,>=0.16.4->tokenizers>=0.13.0->anthropic) (3.15.4)\n",
            "Requirement already satisfied: fsspec>=2023.5.0 in /usr/local/lib/python3.10/dist-packages (from huggingface-hub<1.0,>=0.16.4->tokenizers>=0.13.0->anthropic) (2024.6.1)\n",
            "Requirement already satisfied: packaging>=20.9 in /usr/local/lib/python3.10/dist-packages (from huggingface-hub<1.0,>=0.16.4->tokenizers>=0.13.0->anthropic) (24.1)\n",
            "Requirement already satisfied: pyyaml>=5.1 in /usr/local/lib/python3.10/dist-packages (from huggingface-hub<1.0,>=0.16.4->tokenizers>=0.13.0->anthropic) (6.0.2)\n",
            "Requirement already satisfied: requests in /usr/local/lib/python3.10/dist-packages (from huggingface-hub<1.0,>=0.16.4->tokenizers>=0.13.0->anthropic) (2.32.3)\n",
            "Requirement already satisfied: tqdm>=4.42.1 in /usr/local/lib/python3.10/dist-packages (from huggingface-hub<1.0,>=0.16.4->tokenizers>=0.13.0->anthropic) (4.66.5)\n",
            "Requirement already satisfied: charset-normalizer<4,>=2 in /usr/local/lib/python3.10/dist-packages (from requests->huggingface-hub<1.0,>=0.16.4->tokenizers>=0.13.0->anthropic) (3.3.2)\n",
            "Requirement already satisfied: urllib3<3,>=1.21.1 in /usr/local/lib/python3.10/dist-packages (from requests->huggingface-hub<1.0,>=0.16.4->tokenizers>=0.13.0->anthropic) (2.0.7)\n",
            "Downloading anthropic-0.34.1-py3-none-any.whl (891 kB)\n",
            "\u001b[2K   \u001b[90m━━━━━━━━━━━━━━━━━━━━━━━━━━━━━━━━━━━━━━━━\u001b[0m \u001b[32m891.5/891.5 kB\u001b[0m \u001b[31m12.3 MB/s\u001b[0m eta \u001b[36m0:00:00\u001b[0m\n",
            "\u001b[?25hDownloading httpx-0.27.0-py3-none-any.whl (75 kB)\n",
            "\u001b[2K   \u001b[90m━━━━━━━━━━━━━━━━━━━━━━━━━━━━━━━━━━━━━━━━\u001b[0m \u001b[32m75.6/75.6 kB\u001b[0m \u001b[31m3.8 MB/s\u001b[0m eta \u001b[36m0:00:00\u001b[0m\n",
            "\u001b[?25hDownloading httpcore-1.0.5-py3-none-any.whl (77 kB)\n",
            "\u001b[2K   \u001b[90m━━━━━━━━━━━━━━━━━━━━━━━━━━━━━━━━━━━━━━━━\u001b[0m \u001b[32m77.9/77.9 kB\u001b[0m \u001b[31m3.7 MB/s\u001b[0m eta \u001b[36m0:00:00\u001b[0m\n",
            "\u001b[?25hDownloading jiter-0.5.0-cp310-cp310-manylinux_2_17_x86_64.manylinux2014_x86_64.whl (318 kB)\n",
            "\u001b[2K   \u001b[90m━━━━━━━━━━━━━━━━━━━━━━━━━━━━━━━━━━━━━━━━\u001b[0m \u001b[32m318.9/318.9 kB\u001b[0m \u001b[31m10.0 MB/s\u001b[0m eta \u001b[36m0:00:00\u001b[0m\n",
            "\u001b[?25hDownloading h11-0.14.0-py3-none-any.whl (58 kB)\n",
            "\u001b[2K   \u001b[90m━━━━━━━━━━━━━━━━━━━━━━━━━━━━━━━━━━━━━━━━\u001b[0m \u001b[32m58.3/58.3 kB\u001b[0m \u001b[31m3.2 MB/s\u001b[0m eta \u001b[36m0:00:00\u001b[0m\n",
            "\u001b[?25hInstalling collected packages: jiter, h11, httpcore, httpx, anthropic\n",
            "Successfully installed anthropic-0.34.1 h11-0.14.0 httpcore-1.0.5 httpx-0.27.0 jiter-0.5.0\n"
          ]
        }
      ],
      "source": [
        "pip install anthropic"
      ]
    },
    {
      "cell_type": "code",
      "execution_count": 2,
      "id": "ef9de964-9dca-441c-8a0c-f3789c890062",
      "metadata": {
        "id": "ef9de964-9dca-441c-8a0c-f3789c890062"
      },
      "outputs": [],
      "source": [
        "import anthropic\n",
        "import os"
      ]
    },
    {
      "cell_type": "code",
      "execution_count": 3,
      "id": "40385371",
      "metadata": {
        "id": "40385371"
      },
      "outputs": [],
      "source": [
        "# Create the language model with API KEY from Claude\n",
        "llm1 = anthropic.Anthropic(api_key=\"YOUR_API_KEY\")"
      ]
    },
    {
      "cell_type": "code",
      "execution_count": 4,
      "id": "ab115476",
      "metadata": {
        "id": "ab115476"
      },
      "outputs": [],
      "source": [
        "def economist(query, llm):\n",
        "\n",
        "    full_query = f\"\\nUser: {query}\"\n",
        "\n",
        "    system_content = \"\"\"You are expert economist.'\"\"\"\n",
        "\n",
        "    chain = llm.messages.create(\n",
        "        model=\"claude-3-5-sonnet-20240620\",\n",
        "        max_tokens=1000,\n",
        "        system=f\"{system_content}\",\n",
        "        messages=[\n",
        "            {\n",
        "                \"role\": \"user\",\n",
        "                \"content\": [\n",
        "                    {\n",
        "                        \"type\": \"text\",\n",
        "                        \"text\": full_query\n",
        "                    }\n",
        "                ]\n",
        "            }\n",
        "        ]\n",
        "    )\n",
        "\n",
        "    result = chain.content[0].text\n",
        "\n",
        "    return result"
      ]
    },
    {
      "cell_type": "code",
      "execution_count": 5,
      "id": "qO2_L2HbucRn",
      "metadata": {
        "id": "qO2_L2HbucRn"
      },
      "outputs": [],
      "source": [
        "def editor(query, llm):\n",
        "\n",
        "    full_query = f\"\\nUser: {query}\"\n",
        "\n",
        "    system_content = \"\"\"You are expert editor and expert economist.\n",
        "                        Your role is reading user's input and finding the perspective that not in user's input.\n",
        "                        You can write more about your opinion in the perspective that you found.\n",
        "                        In the parts, that you are agree with, you can follow the same content.\n",
        "                        In the parts, that you are not agree with, you can edit it.\n",
        "                        Then, write it all again\"\"\"\n",
        "\n",
        "    chain = llm.messages.create(\n",
        "        model=\"claude-3-5-sonnet-20240620\",\n",
        "        max_tokens=1000,\n",
        "        system=f\"{system_content}\",\n",
        "        messages=[\n",
        "            {\n",
        "                \"role\": \"user\",\n",
        "                \"content\": [\n",
        "                    {\n",
        "                        \"type\": \"text\",\n",
        "                        \"text\": full_query\n",
        "                    }\n",
        "                ]\n",
        "            }\n",
        "        ]\n",
        "    )\n",
        "\n",
        "    result = chain.content[0].text\n",
        "\n",
        "    return result"
      ]
    },
    {
      "cell_type": "code",
      "execution_count": 6,
      "id": "4jA_xiMsucoW",
      "metadata": {
        "id": "4jA_xiMsucoW"
      },
      "outputs": [],
      "source": [
        "def final_editor(query, llm):\n",
        "\n",
        "    full_query = f\"\\nUser: {query}\"\n",
        "\n",
        "    system_content = \"\"\"You are expert editor and expert economist.\n",
        "                        rewrite it with fluent language.\"\"\"\n",
        "\n",
        "    chain = llm.messages.create(\n",
        "        model=\"claude-3-5-sonnet-20240620\",\n",
        "        max_tokens=1000,\n",
        "        system=f\"{system_content}\",\n",
        "        messages=[\n",
        "            {\n",
        "                \"role\": \"user\",\n",
        "                \"content\": [\n",
        "                    {\n",
        "                        \"type\": \"text\",\n",
        "                        \"text\": full_query\n",
        "                    }\n",
        "                ]\n",
        "            }\n",
        "        ]\n",
        "    )\n",
        "\n",
        "    result = chain.content[0].text\n",
        "\n",
        "    return result"
      ]
    },
    {
      "cell_type": "code",
      "execution_count": 7,
      "id": "ee4cdea9",
      "metadata": {
        "id": "ee4cdea9"
      },
      "outputs": [],
      "source": [
        "query = \"What is the potential impact of Chinese price war on Thailand economy?\"\n",
        "\n",
        "response_economist = economist(query, llm1)\n",
        "response_editor = editor(response_economist, llm1)\n",
        "respones_final_editor = final_editor(response_editor, llm1)"
      ]
    },
    {
      "cell_type": "code",
      "execution_count": 8,
      "id": "QH9o_CYwY6em",
      "metadata": {
        "colab": {
          "base_uri": "https://localhost:8080/",
          "height": 143
        },
        "id": "QH9o_CYwY6em",
        "outputId": "ebf12c2c-70e9-4b81-ca60-7c1a4dbfdcef"
      },
      "outputs": [
        {
          "data": {
            "application/vnd.google.colaboratory.intrinsic+json": {
              "type": "string"
            },
            "text/plain": [
              "\"Your analysis offers a nuanced and forward-looking perspective on the potential impact of a Chinese price war on Thailand's economy. Let me refine and expand on these insights:\\n\\nThe prospect of a Chinese price war presents both challenges and opportunities for Thailand's economic landscape. While initial concerns may focus on competitive pressures in export markets and tourism, a deeper analysis reveals potential catalysts for significant economic transformation.\\n\\nThailand stands at a crossroads, with the possibility to leverage this external pressure as a springboard for accelerated economic diversification. The impetus could drive investment into burgeoning sectors such as renewable energy, biotechnology, and digital services, reducing the country's historical dependence on traditional manufacturing and exports.\\n\\nMoreover, this scenario could foster increased regional cooperation within ASEAN. Thailand, leveraging its strategic position, could spearhead initiatives to strengthen intra-ASEAN trade and investment, potentially mitigating some of the adverse effects of Chinese economic dominance.\\n\\nDomestically, the challenges in export markets might necessitate a pivot towards developing Thailand's internal market. This shift could prompt policies aimed at boosting domestic consumption and addressing income inequality, leading to a more balanced and resilient economic structure.\\n\\nThe competitive pressure could also serve as a potent driver for innovation and productivity enhancements across Thai industries. While potentially disruptive in the short term, this could yield long-term benefits for Thailand's global competitiveness and economic sophistication.\\n\\nFrom a geopolitical standpoint, the situation presents Thailand with an opportunity to recalibrate its strategic relationships. Skillful diplomatic maneuvering could open new economic avenues and strengthen Thailand's position in the regional power dynamic.\\n\\nEnvironmental considerations also come into play. If the price war leads to increased production in China, it could exacerbate environmental issues, potentially benefiting Thailand's eco-friendly industries and sustainable tourism sector.\\n\\nThe economic pressures could accelerate automation and digitalization trends, necessitating a reimagining of Thailand's labor market and educational priorities to meet evolving skill requirements.\\n\\nFurthermore, the financial sector may face a stress test, potentially catalyzing reforms and spurring financial innovation to enhance resilience and adaptability.\\n\\nIn conclusion, while a Chinese price war poses immediate challenges, it also offers Thailand a unique opportunity for economic reinvention. With strategic policy responses focusing on innovation, diversification, and regional cooperation, Thailand could emerge from this period with a more competitive, innovative, and resilient economy. The key lies in Thailand's ability to adapt nimbly to the changing economic landscape and capitalize on the new opportunities that arise from this disruption.\""
            ]
          },
          "execution_count": 8,
          "metadata": {},
          "output_type": "execute_result"
        }
      ],
      "source": [
        "respones_final_editor"
      ]
    }
  ],
  "metadata": {
    "colab": {
      "provenance": []
    },
    "kernelspec": {
      "display_name": "Python 3 (ipykernel)",
      "language": "python",
      "name": "python3"
    },
    "language_info": {
      "codemirror_mode": {
        "name": "ipython",
        "version": 3
      },
      "file_extension": ".py",
      "mimetype": "text/x-python",
      "name": "python",
      "nbconvert_exporter": "python",
      "pygments_lexer": "ipython3",
      "version": "3.11.4"
    }
  },
  "nbformat": 4,
  "nbformat_minor": 5
}
