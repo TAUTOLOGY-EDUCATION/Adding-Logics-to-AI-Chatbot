{
  "cells": [
    {
      "cell_type": "code",
      "execution_count": 1,
      "id": "NkQ6lxuIIYk2",
      "metadata": {
        "id": "NkQ6lxuIIYk2"
      },
      "outputs": [],
      "source": [
        "# pip install anthropic"
      ]
    },
    {
      "cell_type": "code",
      "execution_count": 2,
      "id": "kgfnnX5MGkwx",
      "metadata": {
        "id": "kgfnnX5MGkwx"
      },
      "outputs": [],
      "source": [
        "import anthropic\n",
        "import os\n",
        "import sys"
      ]
    },
    {
      "cell_type": "code",
      "execution_count": 3,
      "id": "FVvEsRhv2Gtq",
      "metadata": {
        "id": "FVvEsRhv2Gtq"
      },
      "outputs": [],
      "source": [
        "API_KEYS = \"YOUR_API_KEY\""
      ]
    },
    {
      "cell_type": "code",
      "execution_count": 4,
      "id": "dB126HssGxPn",
      "metadata": {
        "id": "dB126HssGxPn"
      },
      "outputs": [],
      "source": [
        "llm1 = anthropic.Anthropic(api_key=f\"{API_KEYS}\")\n",
        "llm2 = anthropic.Anthropic(api_key=f\"{API_KEYS}\")"
      ]
    },
    {
      "cell_type": "code",
      "execution_count": 5,
      "id": "oF1H7xwg0_wP",
      "metadata": {
        "id": "oF1H7xwg0_wP"
      },
      "outputs": [],
      "source": [
        "def good_instruction(query, llm, chat_history):\n",
        "\n",
        "    full_query = \"\\n\".join([f\"User: {q}\\nAssistance: {a}\" for q, a in chat_history])\n",
        "    full_query += f\"\\nUser: {query}\"\n",
        "\n",
        "    chain = llm.messages.create(\n",
        "        model=\"claude-3-5-sonnet-20240620\",\n",
        "        max_tokens=1000,\n",
        "        system=\"คุณเป็นเภสัชกรที่มีหน้าที่แนะนำยาที่ใช้รักษาอาการเจ็บป่วย ให้ความรู้เกี่ยวกับเรื่องยา และการดูแลสุขภาพ\",\n",
        "        messages=[\n",
        "            {\n",
        "                \"role\": \"user\",\n",
        "                \"content\": [\n",
        "                    {\n",
        "                        \"type\": \"text\",\n",
        "                        \"text\": full_query\n",
        "                    }\n",
        "                ]\n",
        "            }\n",
        "        ]\n",
        "    )\n",
        "\n",
        "    result = chain.content[0].text\n",
        "\n",
        "    return result"
      ]
    },
    {
      "cell_type": "code",
      "execution_count": 6,
      "id": "iVZ1msqH1-Ei",
      "metadata": {
        "id": "iVZ1msqH1-Ei"
      },
      "outputs": [],
      "source": [
        "def bad_instruction(query, llm, chat_history):\n",
        "\n",
        "    full_query = \"\\n\".join([f\"User: {q}\\nAssistance: {a}\" for q, a in chat_history])\n",
        "    full_query += f\"\\nUser: {query}\"\n",
        "\n",
        "    chain = llm.messages.create(\n",
        "        model=\"claude-3-5-sonnet-20240620\",\n",
        "        max_tokens=1000,\n",
        "        system=\"เป็นผู้ตอบคำถาม\",\n",
        "        messages=[\n",
        "            {\n",
        "                \"role\": \"user\",\n",
        "                \"content\": [\n",
        "                    {\n",
        "                        \"type\": \"text\",\n",
        "                        \"text\": full_query\n",
        "                    }\n",
        "                ]\n",
        "            }\n",
        "        ]\n",
        "    )\n",
        "\n",
        "    result = chain.content[0].text\n",
        "\n",
        "    return result"
      ]
    },
    {
      "cell_type": "code",
      "execution_count": 7,
      "id": "6f48ec69",
      "metadata": {
        "colab": {
          "base_uri": "https://localhost:8080/"
        },
        "id": "6f48ec69",
        "outputId": "20fd9fe2-9ef8-4213-e8d3-f7cb715502cd"
      },
      "outputs": [
        {
          "name": "stdout",
          "output_type": "stream",
          "text": [
            "User: ท้องเสีย\n",
            "Good Intruction: สำหรับอาการท้องเสีย มีข้อแนะนำดังนี้\n",
            "\n",
            "1. พักการรับประทานอาหารประมาณ 24 ชั่วโมง รับประทานเพียงน้ำเปล่าหรือน้ำเกลือแร่ ช่วยให้ร่างกายพักการย่อยอาหาร\n",
            "\n",
            "2. รับประทานยาระงับอาการท้องเสีย อาทิ โลพรามีด ไบสาโคดิล หรือแพ็คโค เพื่อชะลอการเคลื่อนไหวของลำไส้\n",
            "\n",
            "3. เมื่อท้องเสียดีขึ้น เริ่มรับประทานอาหารอ่อนๆ เช่น โจ๊ก ข้าวต้มจืด กระหรี่ผัก ก่อนจะกลับมารับประทานอาหารปกติ\n",
            "\n",
            "4. รักษาสุขอนามัยส่วนบุคคลให้ดี ล้างมือบ่อยๆ เพื่อป้องกันการปนเปื้อนเชื้อโรค\n",
            "\n",
            "5. พักผ่อนให้เพียงพอ เพื่อเสริมสร้างภูมิคุ้มกันร่างกาย\n",
            "\n",
            "หากอาการไม่ดีขึ้นใน 2-3 วัน หรือมีอาการรุนแรง เช่น ปวดท้องมาก มีไข้สูง ควรพบแพทย์ เพื่อรับการวินิจฉัยและการรักษาที่เหมาะสม\n",
            "Bad Intruction: ขอรับคำถามเกี่ยวกับอาการท้องเสีย ผมจะพยายามให้คำแนะนำที่เป็นประโยชน์ แต่จะระมัดระวังไม่ให้มีการละเมิดลิขสิทธิ์ใดๆ เช่น การคัดลอกบทเพลง บทความ หรือตัวอย่างยาวจากสิ่งพิมพ์ต่างๆ\n",
            "\n",
            "ท้องเสียสามารถเกิดขึ้นได้จากหลายสาเหตุ เช่น การติดเชื้อในระบบทางเดินอาหาร การได้รับสารพิษจากอาหาร หรือปัญหาด้านการย่อยอาหาร ในบางกรณีอาจเป็นอาการของโรคที่รุนแรงกว่า ดังนั้นจึงควรติดตามอาการให้ดี หากอาการยังไม่ดีขึ้นภายใน 2-3 วัน หรือมีอาการร้ายแรงอื่นๆ เช่น ปวดท้องรุนแรง ไข้สูง หรือมีเลือดปนในอุจจาระ ควรพบแพทย์โดยด่วน\n",
            "\n",
            "การรักษาท้องเสียที่เป็นอาการทั่วไป สามารถทำได้โดยการดื่มน้ำเกลือแร่เพื่อทดแทนน้ำและเกลือแร่ที่สูญเสียไป พักผ่อนให้เพียงพอ งดอาหารแข็งชั่วคราวจนกว่าอาการจะดีขึ้น รับประทานโยเกิร์ตที่มีจุลินทรีย์ที่ดีต่อระบบย่อยอาหาร และหลีกเลี่ยงอาหารที่อาจทำให้ท้องเสียมากขึ้น\n",
            "User: q\n"
          ]
        }
      ],
      "source": [
        "chat_history1 = []\n",
        "chat_history2 = []\n",
        "query = None  # Initialize query to avoid potential reference error\n",
        "\n",
        "while True:\n",
        "    if not query:\n",
        "        query = input(\"User: \")\n",
        "    if query in ['quit', 'q', 'exit']:\n",
        "        break\n",
        "    result1 = good_instruction(query, llm1, chat_history1)\n",
        "    print(\"Good Intruction:\", result1)\n",
        "\n",
        "    result2 = bad_instruction(query, llm2, chat_history2)\n",
        "    print(\"Bad Intruction:\", result2)\n",
        "\n",
        "    chat_history1.append((query, result1))\n",
        "    chat_history2.append((query, result2))\n",
        "    query = None"
      ]
    },
    {
      "cell_type": "code",
      "execution_count": 7,
      "id": "VkYa2UNC3FjX",
      "metadata": {
        "id": "VkYa2UNC3FjX"
      },
      "outputs": [],
      "source": []
    }
  ],
  "metadata": {
    "colab": {
      "provenance": []
    },
    "kernelspec": {
      "display_name": "Python 3 (ipykernel)",
      "language": "python",
      "name": "python3"
    },
    "language_info": {
      "codemirror_mode": {
        "name": "ipython",
        "version": 3
      },
      "file_extension": ".py",
      "mimetype": "text/x-python",
      "name": "python",
      "nbconvert_exporter": "python",
      "pygments_lexer": "ipython3",
      "version": "3.11.7"
    }
  },
  "nbformat": 4,
  "nbformat_minor": 5
}
