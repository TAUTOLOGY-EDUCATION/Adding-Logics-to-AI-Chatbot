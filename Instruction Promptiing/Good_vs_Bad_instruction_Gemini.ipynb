{
  "cells": [
    {
      "cell_type": "code",
      "execution_count": 1,
      "id": "NkQ6lxuIIYk2",
      "metadata": {
        "id": "NkQ6lxuIIYk2"
      },
      "outputs": [],
      "source": [
        "pip install -q -U google-generativeai"
      ]
    },
    {
      "cell_type": "code",
      "execution_count": 2,
      "id": "kgfnnX5MGkwx",
      "metadata": {
        "id": "kgfnnX5MGkwx"
      },
      "outputs": [],
      "source": [
        "import google.generativeai as genai\n",
        "import os\n",
        "import sys"
      ]
    },
    {
      "cell_type": "code",
      "execution_count": 3,
      "id": "dB126HssGxPn",
      "metadata": {
        "id": "dB126HssGxPn"
      },
      "outputs": [],
      "source": [
        "genai.configure(api_key=\"YOUR_API_KEY\")\n",
        "llm1 = genai.GenerativeModel('gemini-1.5-flash', system_instruction=\"คุณเป็นเภสัชกรที่มีหน้าที่แนะนำยาที่ใช้รักษาอาการเจ็บป่วย ให้ความรู้เกี่ยวกับเรื่องยา และการดูแลสุขภาพ\")\n",
        "llm2 = genai.GenerativeModel('gemini-1.5-flash', system_instruction=\"เป็นผู้ตอบคำถาม\")"
      ]
    },
    {
      "cell_type": "code",
      "execution_count": 4,
      "id": "oF1H7xwg0_wP",
      "metadata": {
        "id": "oF1H7xwg0_wP"
      },
      "outputs": [],
      "source": [
        "def good_instruction(query, llm, chat_history):\n",
        "\n",
        "    full_query = \"\\n\".join([f\"User: {q}\\nAssistance: {a}\" for q, a in chat_history])\n",
        "    full_query += f\"\\nUser: {query}\"\n",
        "\n",
        "    chain = llm.generate_content(f\"{full_query}\")\n",
        "\n",
        "    result = chain.text\n",
        "\n",
        "    return result"
      ]
    },
    {
      "cell_type": "code",
      "execution_count": 5,
      "id": "NtqJrJoFCysP",
      "metadata": {
        "id": "NtqJrJoFCysP"
      },
      "outputs": [],
      "source": [
        "def bad_instruction(query, llm, chat_history):\n",
        "\n",
        "    full_query = \"\\n\".join([f\"User: {q}\\nAssistance: {a}\" for q, a in chat_history])\n",
        "    full_query += f\"\\nUser: {query}\"\n",
        "\n",
        "    chain = llm.generate_content(f\"{full_query}\")\n",
        "\n",
        "    result = chain.text\n",
        "\n",
        "    return result"
      ]
    },
    {
      "cell_type": "code",
      "execution_count": 6,
      "id": "6f48ec69",
      "metadata": {
        "colab": {
          "base_uri": "https://localhost:8080/",
          "height": 1000
        },
        "id": "6f48ec69",
        "outputId": "1390450d-7408-4f9c-b6ef-ad4e037ec0fb"
      },
      "outputs": [
        {
          "name": "stdout",
          "output_type": "stream",
          "text": [
            "User: ปวดหลัง\n",
            "Good Intruction: ขออภัย ฉันไม่สามารถให้คำแนะนำทางการแพทย์ได้  การปวดหลังเป็นอาการที่พบบ่อยและสาเหตุของการปวดหลังก็มีหลากหลาย  เพื่อความปลอดภัยของคุณ  ฉันขอแนะนำให้คุณไปพบแพทย์หรือเภสัชกรเพื่อรับการวินิจฉัยและการรักษาที่เหมาะสม \n",
            "\n",
            "อย่างไรก็ตาม ฉันสามารถให้ข้อมูลเบื้องต้นเกี่ยวกับอาการปวดหลังได้  \n",
            "\n",
            "* **สาเหตุทั่วไปของการปวดหลัง:** การยกของหนัก  การนั่งนานๆ  การยืนนานๆ  การออกกำลังกายที่หนักเกินไป  การได้รับบาดเจ็บ  โรคข้อเข่าเสื่อม  การติดเชื้อ  โรคมะเร็ง\n",
            "* **วิธีการบรรเทาอาการปวดหลัง:** \n",
            "    * ยาแก้ปวดชนิดที่ไม่ต้องสั่งโดยแพทย์ (OTC) เช่น ไอบูโพรเฟน  พาราเซตามอล\n",
            "    * การประคบเย็นหรือร้อน\n",
            "    * การออกกำลังกายเบาๆ เช่น การเดิน  การว่ายน้ำ\n",
            "    * การพักผ่อนอย่างเพียงพอ\n",
            "* **เมื่อควรพบแพทย์:**  \n",
            "    * ปวดหลังรุนแรง \n",
            "    * ปวดหลังเรื้อรัง \n",
            "    * ปวดหลังที่ลามไปที่ขา \n",
            "    * ปวดหลังที่รบกวนการเคลื่อนไหว \n",
            "    * มีไข้ \n",
            "    * อ่อนแรง \n",
            "    * มีปัญหาในการควบคุมการขับถ่าย\n",
            "\n",
            "โปรดจำไว้ว่าฉันไม่ใช่แพทย์ และข้อมูลที่ฉันให้เป็นเพียงข้อมูลทั่วไปเท่านั้น  การวินิจฉัยและการรักษาควรทำโดยผู้เชี่ยวชาญด้านการแพทย์เท่านั้น \n",
            "\n",
            "Bad Intruction: ขออภัย ฉันไม่สามารถให้คำแนะนำทางการแพทย์ได้  \n",
            "\n",
            "หากคุณมีอาการปวดหลัง คุณควรไปพบแพทย์หรือผู้เชี่ยวชาญด้านสุขภาพเพื่อรับการวินิจฉัยและการรักษาที่เหมาะสม \n",
            "\n",
            "อย่างไรก็ตาม ฉันสามารถให้ข้อมูลทั่วไปเกี่ยวกับการปวดหลังได้\n",
            "\n",
            "**สาเหตุทั่วไปของการปวดหลัง:**\n",
            "\n",
            "* **การบาดเจ็บ:** การยกของหนัก การเคลื่อนไหวร่างกายอย่างรวดเร็ว หรือการบาดเจ็บจากอุบัติเหตุ\n",
            "* **การเสื่อมสภาพ:** การเสื่อมสภาพของแผ่นดิสก์ในกระดูกสันหลัง\n",
            "* **ท่าทางที่ไม่ดี:** การนั่ง การยืน หรือการนอนที่ไม่ถูกต้อง\n",
            "* **น้ำหนักเกินหรือโรคอ้วน:** น้ำหนักตัวที่มากเกินไปสามารถเพิ่มความเครียดต่อกระดูกสันหลังได้\n",
            "* **การตั้งครรภ์:** การเปลี่ยนแปลงของฮอร์โมนและน้ำหนักตัวที่เพิ่มขึ้นสามารถทำให้เกิดอาการปวดหลังได้\n",
            "* **โรคทางการแพทย์:** โรคบางอย่างเช่นโรคข้ออักเสบหรือโรคมะเร็งสามารถทำให้เกิดอาการปวดหลังได้\n",
            "\n",
            "**การรักษาการปวดหลัง:**\n",
            "\n",
            "* **พักผ่อน:** ปล่อยให้ร่างกายของคุณได้พักผ่อน\n",
            "* **ยาแก้ปวด:** ยาแก้ปวดที่ไม่ต้องสั่งโดยแพทย์ เช่น ไอบูโพรเฟนหรือแอสไพริน \n",
            "* **การประคบเย็น:** ประคบเย็นบนบริเวณที่ปวด\n",
            "* **การออกกำลังกาย:** การออกกำลังกายเบา ๆ เช่น การเดินหรือว่ายน้ำ\n",
            "* **กายภาพบำบัด:** บำบัดโดยผู้เชี่ยวชาญเพื่อเสริมสร้างกล้ามเนื้อและปรับปรุงท่าทาง\n",
            "* **การผ่าตัด:** อาจจำเป็นต้องทำการผ่าตัดในกรณีที่สาเหตุของการปวดหลังรุนแรง\n",
            "\n",
            "**คำแนะนำเพิ่มเติม:**\n",
            "\n",
            "* **หลีกเลี่ยงการเคลื่อนไหวที่ทำให้ปวด**\n",
            "* **รักษาท่าทางที่ถูกต้อง**\n",
            "* **ออกกำลังกายอย่างสม่ำเสมอ**\n",
            "* **ทานอาหารที่มีประโยชน์ต่อสุขภาพ**\n",
            "* **ลดน้ำหนักถ้าจำเป็น**\n",
            "\n",
            "**หากอาการของคุณรุนแรงหรือไม่ดีขึ้นภายในสองสามวัน คุณควรไปพบแพทย์**\n",
            "\n",
            "User: q\n"
          ]
        }
      ],
      "source": [
        "chat_history1 = []\n",
        "chat_history2 = []\n",
        "query = None  # Initialize query to avoid potential reference error\n",
        "\n",
        "while True:\n",
        "    if not query:\n",
        "        query = input(\"User: \")\n",
        "    if query in ['quit', 'q', 'exit']:\n",
        "        break\n",
        "    result1 = good_instruction(query, llm1, chat_history1)\n",
        "    print(\"Good Intruction:\", result1)\n",
        "\n",
        "    result2 = bad_instruction(query, llm2, chat_history2)\n",
        "    print(\"Bad Intruction:\", result2)\n",
        "\n",
        "    chat_history1.append((query, result1))\n",
        "    chat_history2.append((query, result2))\n",
        "    query = None"
      ]
    },
    {
      "cell_type": "code",
      "execution_count": 6,
      "id": "c3c593fb-3d02-49db-94e1-918fbfdab31c",
      "metadata": {
        "id": "c3c593fb-3d02-49db-94e1-918fbfdab31c"
      },
      "outputs": [],
      "source": []
    }
  ],
  "metadata": {
    "colab": {
      "provenance": []
    },
    "kernelspec": {
      "display_name": "Python 3 (ipykernel)",
      "language": "python",
      "name": "python3"
    },
    "language_info": {
      "codemirror_mode": {
        "name": "ipython",
        "version": 3
      },
      "file_extension": ".py",
      "mimetype": "text/x-python",
      "name": "python",
      "nbconvert_exporter": "python",
      "pygments_lexer": "ipython3",
      "version": "3.11.7"
    }
  },
  "nbformat": 4,
  "nbformat_minor": 5
}
