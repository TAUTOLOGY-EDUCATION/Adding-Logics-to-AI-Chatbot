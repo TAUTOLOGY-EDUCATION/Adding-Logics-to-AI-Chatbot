{
  "cells": [
    {
      "cell_type": "code",
      "execution_count": 1,
      "id": "-6FdlbMgrFZD",
      "metadata": {
        "id": "-6FdlbMgrFZD"
      },
      "outputs": [],
      "source": [
        "# pip install openai"
      ]
    },
    {
      "cell_type": "code",
      "execution_count": 2,
      "id": "b1fc20e5",
      "metadata": {
        "id": "b1fc20e5"
      },
      "outputs": [],
      "source": [
        "import openai\n",
        "import os\n",
        "import sys\n",
        "\n",
        "from openai import OpenAI"
      ]
    },
    {
      "cell_type": "code",
      "execution_count": 3,
      "id": "jJmpTOhLv3bb",
      "metadata": {
        "id": "jJmpTOhLv3bb"
      },
      "outputs": [],
      "source": [
        "API_KEYS = \"YOUR_API_KEY\""
      ]
    },
    {
      "cell_type": "code",
      "execution_count": 4,
      "id": "ykWrz7A_yw7M",
      "metadata": {
        "id": "ykWrz7A_yw7M"
      },
      "outputs": [],
      "source": [
        "llm1 = OpenAI(api_key=f\"{API_KEYS}\")\n",
        "llm2 = OpenAI(api_key=f\"{API_KEYS}\")"
      ]
    },
    {
      "cell_type": "code",
      "execution_count": 5,
      "id": "oF1H7xwg0_wP",
      "metadata": {
        "id": "oF1H7xwg0_wP"
      },
      "outputs": [],
      "source": [
        "def good_instruction(query, llm, chat_history):\n",
        "\n",
        "    full_query = \"\\n\".join([f\"User: {q}\\nAssistance: {a}\" for q, a in chat_history])\n",
        "    full_query += f\"\\nUser: {query}\"\n",
        "\n",
        "    messages = [\n",
        "        {\"role\": \"system\", \"content\": \"คุณเป็นเภสัชกรที่มีหน้าที่แนะนำยาที่ใช้รักษาอาการเจ็บป่วย ให้ความรู้เกี่ยวกับเรื่องยา และการดูแลสุขภาพ\"},\n",
        "        {\"role\": \"user\", \"content\": full_query}\n",
        "    ]\n",
        "\n",
        "    chain = llm.chat.completions.create(\n",
        "        model=\"gpt-3.5-turbo-16k\",\n",
        "        messages=messages\n",
        "    )\n",
        "\n",
        "    result = chain.choices[0].message.content\n",
        "    return result"
      ]
    },
    {
      "cell_type": "code",
      "execution_count": 6,
      "id": "ADfzyAqvuADF",
      "metadata": {
        "id": "ADfzyAqvuADF"
      },
      "outputs": [],
      "source": [
        "def bad_instruction(query, llm, chat_history):\n",
        "\n",
        "    full_query = \"\\n\".join([f\"User: {q}\\nAssistance: {a}\" for q, a in chat_history])\n",
        "    full_query += f\"\\nUser: {query}\"\n",
        "\n",
        "    messages = [\n",
        "        {\"role\": \"system\", \"content\": \"เป็นผู้ตอบคำถาม\"},\n",
        "        {\"role\": \"user\", \"content\": full_query}\n",
        "    ]\n",
        "\n",
        "    chain = llm.chat.completions.create(\n",
        "        model=\"gpt-3.5-turbo-16k\",\n",
        "        messages=messages\n",
        "    )\n",
        "\n",
        "    result = chain.choices[0].message.content\n",
        "    # result = chain2({\"question\": query, \"chat_history\": chat_history})\n",
        "    return result"
      ]
    },
    {
      "cell_type": "code",
      "execution_count": 7,
      "id": "6f48ec69",
      "metadata": {
        "colab": {
          "base_uri": "https://localhost:8080/"
        },
        "id": "6f48ec69",
        "outputId": "b9f84f59-6d74-4ebd-fa3b-d579903bc653"
      },
      "outputs": [
        {
          "name": "stdout",
          "output_type": "stream",
          "text": [
            "User: ท้องเสีย\n",
            "Good Intruction: Assistant: ถ้าคุณมีอาการท้องเสียควรทำอย่างไรก็ดี เป็นสิ่งที่สำคัญที่สุดคือการรักษาความชื้นในร่างกาย โดยดื่มน้ำมากเพื่อป้องกันการขาดน้ำในร่างกาย นอกจากนี้ยังมีวิธีการดูแลสุขภาพเพิ่มเติมที่สามารถช่วยลดอาการท้องเสียได้\n",
            "\n",
            "1. อาหาร: ควรเลือกอาหารที่เป็นธรรมชาติ และสะอาด เช่น ผักผลไม้สด ข้าวสารสีขาว และเนื้อสัตว์ที่ยังไม่ผ่าดีอายุ\n",
            "\n",
            "2. อาหารที่ใช้การสังเคราะห์หน้าตาดี: เช่น เกลือรำไพ และยาสมุนไพรที่ใช้รักษาท้องเสียอย่างบรรเทา\n",
            "\n",
            "3. ยากลุ่มปฏิชีวนะไม่จำเป็นต้องใช้แบบเสมอ: หากคุณมีอาการท้องเสียเนื่องจากติดเชื้อ คุณอาจต้องใช้ยารักษาตามคำแนะนำของแพทย์\n",
            "\n",
            "4. การสะอาด: ช่วยให้อาการท้องเสียไม่รุนแรงโดยล้างมืออย่างถูกต้องก่อนที่จะรับประทานอาหาร และการปัดถีบของคุณให้สะอาดโดยใช้น้ำสบู่และน้ำ\n",
            "\n",
            "คุณอาจทำตามขั้นตอนเหล่านี้เพื่อช่วยฟื้นตัวเองจากอาการท้องเสีย อย่าลืมให้ความสำคัญกับการดื่มน้ำเพียงพอเพื่อป้องกันการขาดน้ำในร่างกาย แต่หากอาการไม่ดีขึ้นหรือก่อให้เกิดอาการมากขึ้น คุณควรพบแพทย์เพื่อรับการตรวจรักษาเพิ่มเติมได้เช่นกันครับ\n",
            "Bad Intruction: Assistant: ท้องเสียเป็นอาการที่ผู้ป่วยมีการถ่ายอุจจาระบ่อยและอุจจาระอาจมีลักษณะเหลวหรือน้ำเหลืองกว่าปกติ อาจมาพร้อมกับอาการอ่อนเพลีย ปวดท้องลิ้นปี่ คลื่นไส้ หรืออาเจียน ในบางกรณีอาจมีไข้เป็นร่องรอยร่วมด้วย หากคุณมีอาการท้องเสียที่รุนแรงหรือค่อนข้างแน่นอนว่ามาจากการรับประทานอาหารหรือน้ำไม่สะอาด คุณควรปรึกษาแพทย์ทันที เพื่อให้ได้การวินิจฉัยและรับการรักษาที่เหมาะสมได้\n",
            "\n",
            "หากคุณเสียมากกว่า 24 ชั่วโมงหรือมีเลือดปนออกมาก คุณอาจจำเป็นต้องรีบพบแพทย์ทันทีเนื่องจากอาจเป็นอาการสำคัญที่จำเป็นต้องรักษาหรือตรวจสอบเพิ่มเติม เพื่อหาสาเหตุและรับการดูแลรักษาที่เหมาะสม\n",
            "\n",
            "ในระหว่างรอการรักษาจากแพทย์ คุณควรดื่มน้ำเปล่าและเครื่องดื่มแก้ปวดท้องที่มีสูตรเดียวกับระดับน้ำละลายในร่างกาย เพื่อป้องกันการขาดน้ำและธาตุอาหาร\n",
            "\n",
            "อีกทั้งคุณควรหลีกเลี่ยงอาหารหรือเครื่องดื่มที่อาจทำให้อาการท้องเสียเพิ่มเติม เช่น อาหารที่ถูกแขวน อาหารที่รสชาติเป็นพิษ เครื่องดื่มที่มีธาตุอื่นๆที่อาจเพิ่มอาการท้องเสีย เช่น นม อัลกอฮอล์ และเครื่องดื่มที่มีไขหรือของแข็งสูงสุด\n",
            "User: q\n"
          ]
        }
      ],
      "source": [
        "chat_history1 = []\n",
        "chat_history2 = []\n",
        "query = None  # Initialize query to avoid potential reference error\n",
        "\n",
        "while True:\n",
        "    if not query:\n",
        "        query = input(\"User: \")\n",
        "    if query in ['quit', 'q', 'exit']:\n",
        "        break\n",
        "    result1 = good_instruction(query, llm1, chat_history1)\n",
        "    print(\"Good Intruction:\", result1)\n",
        "\n",
        "    result2 = bad_instruction(query, llm2, chat_history2)\n",
        "    print(\"Bad Intruction:\", result2)\n",
        "\n",
        "    chat_history1.append((query, result1))\n",
        "    chat_history2.append((query, result2))\n",
        "    query = None"
      ]
    },
    {
      "cell_type": "code",
      "execution_count": 7,
      "id": "1_qjWoKGAJsP",
      "metadata": {
        "id": "1_qjWoKGAJsP"
      },
      "outputs": [],
      "source": []
    }
  ],
  "metadata": {
    "colab": {
      "provenance": []
    },
    "kernelspec": {
      "display_name": "Python 3 (ipykernel)",
      "language": "python",
      "name": "python3"
    },
    "language_info": {
      "codemirror_mode": {
        "name": "ipython",
        "version": 3
      },
      "file_extension": ".py",
      "mimetype": "text/x-python",
      "name": "python",
      "nbconvert_exporter": "python",
      "pygments_lexer": "ipython3",
      "version": "3.11.7"
    }
  },
  "nbformat": 4,
  "nbformat_minor": 5
}
