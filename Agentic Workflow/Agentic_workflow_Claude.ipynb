{
  "cells": [
    {
      "cell_type": "code",
      "execution_count": 1,
      "id": "BGKzwUR8YziM",
      "metadata": {
        "colab": {
          "base_uri": "https://localhost:8080/"
        },
        "id": "BGKzwUR8YziM",
        "outputId": "58dbac03-c546-46ca-e21e-6b6d5de06ed4"
      },
      "outputs": [
        {
          "name": "stdout",
          "output_type": "stream",
          "text": [
            "Collecting anthropic\n",
            "  Downloading anthropic-0.34.1-py3-none-any.whl.metadata (18 kB)\n",
            "Requirement already satisfied: anyio<5,>=3.5.0 in /usr/local/lib/python3.10/dist-packages (from anthropic) (3.7.1)\n",
            "Requirement already satisfied: distro<2,>=1.7.0 in /usr/lib/python3/dist-packages (from anthropic) (1.7.0)\n",
            "Collecting httpx<1,>=0.23.0 (from anthropic)\n",
            "  Downloading httpx-0.27.0-py3-none-any.whl.metadata (7.2 kB)\n",
            "Collecting jiter<1,>=0.4.0 (from anthropic)\n",
            "  Downloading jiter-0.5.0-cp310-cp310-manylinux_2_17_x86_64.manylinux2014_x86_64.whl.metadata (3.6 kB)\n",
            "Requirement already satisfied: pydantic<3,>=1.9.0 in /usr/local/lib/python3.10/dist-packages (from anthropic) (2.8.2)\n",
            "Requirement already satisfied: sniffio in /usr/local/lib/python3.10/dist-packages (from anthropic) (1.3.1)\n",
            "Requirement already satisfied: tokenizers>=0.13.0 in /usr/local/lib/python3.10/dist-packages (from anthropic) (0.19.1)\n",
            "Requirement already satisfied: typing-extensions<5,>=4.7 in /usr/local/lib/python3.10/dist-packages (from anthropic) (4.12.2)\n",
            "Requirement already satisfied: idna>=2.8 in /usr/local/lib/python3.10/dist-packages (from anyio<5,>=3.5.0->anthropic) (3.7)\n",
            "Requirement already satisfied: exceptiongroup in /usr/local/lib/python3.10/dist-packages (from anyio<5,>=3.5.0->anthropic) (1.2.2)\n",
            "Requirement already satisfied: certifi in /usr/local/lib/python3.10/dist-packages (from httpx<1,>=0.23.0->anthropic) (2024.7.4)\n",
            "Collecting httpcore==1.* (from httpx<1,>=0.23.0->anthropic)\n",
            "  Downloading httpcore-1.0.5-py3-none-any.whl.metadata (20 kB)\n",
            "Collecting h11<0.15,>=0.13 (from httpcore==1.*->httpx<1,>=0.23.0->anthropic)\n",
            "  Downloading h11-0.14.0-py3-none-any.whl.metadata (8.2 kB)\n",
            "Requirement already satisfied: annotated-types>=0.4.0 in /usr/local/lib/python3.10/dist-packages (from pydantic<3,>=1.9.0->anthropic) (0.7.0)\n",
            "Requirement already satisfied: pydantic-core==2.20.1 in /usr/local/lib/python3.10/dist-packages (from pydantic<3,>=1.9.0->anthropic) (2.20.1)\n",
            "Requirement already satisfied: huggingface-hub<1.0,>=0.16.4 in /usr/local/lib/python3.10/dist-packages (from tokenizers>=0.13.0->anthropic) (0.23.5)\n",
            "Requirement already satisfied: filelock in /usr/local/lib/python3.10/dist-packages (from huggingface-hub<1.0,>=0.16.4->tokenizers>=0.13.0->anthropic) (3.15.4)\n",
            "Requirement already satisfied: fsspec>=2023.5.0 in /usr/local/lib/python3.10/dist-packages (from huggingface-hub<1.0,>=0.16.4->tokenizers>=0.13.0->anthropic) (2024.6.1)\n",
            "Requirement already satisfied: packaging>=20.9 in /usr/local/lib/python3.10/dist-packages (from huggingface-hub<1.0,>=0.16.4->tokenizers>=0.13.0->anthropic) (24.1)\n",
            "Requirement already satisfied: pyyaml>=5.1 in /usr/local/lib/python3.10/dist-packages (from huggingface-hub<1.0,>=0.16.4->tokenizers>=0.13.0->anthropic) (6.0.2)\n",
            "Requirement already satisfied: requests in /usr/local/lib/python3.10/dist-packages (from huggingface-hub<1.0,>=0.16.4->tokenizers>=0.13.0->anthropic) (2.32.3)\n",
            "Requirement already satisfied: tqdm>=4.42.1 in /usr/local/lib/python3.10/dist-packages (from huggingface-hub<1.0,>=0.16.4->tokenizers>=0.13.0->anthropic) (4.66.5)\n",
            "Requirement already satisfied: charset-normalizer<4,>=2 in /usr/local/lib/python3.10/dist-packages (from requests->huggingface-hub<1.0,>=0.16.4->tokenizers>=0.13.0->anthropic) (3.3.2)\n",
            "Requirement already satisfied: urllib3<3,>=1.21.1 in /usr/local/lib/python3.10/dist-packages (from requests->huggingface-hub<1.0,>=0.16.4->tokenizers>=0.13.0->anthropic) (2.0.7)\n",
            "Downloading anthropic-0.34.1-py3-none-any.whl (891 kB)\n",
            "\u001b[2K   \u001b[90m━━━━━━━━━━━━━━━━━━━━━━━━━━━━━━━━━━━━━━━━\u001b[0m \u001b[32m891.5/891.5 kB\u001b[0m \u001b[31m10.2 MB/s\u001b[0m eta \u001b[36m0:00:00\u001b[0m\n",
            "\u001b[?25hDownloading httpx-0.27.0-py3-none-any.whl (75 kB)\n",
            "\u001b[2K   \u001b[90m━━━━━━━━━━━━━━━━━━━━━━━━━━━━━━━━━━━━━━━━\u001b[0m \u001b[32m75.6/75.6 kB\u001b[0m \u001b[31m4.5 MB/s\u001b[0m eta \u001b[36m0:00:00\u001b[0m\n",
            "\u001b[?25hDownloading httpcore-1.0.5-py3-none-any.whl (77 kB)\n",
            "\u001b[2K   \u001b[90m━━━━━━━━━━━━━━━━━━━━━━━━━━━━━━━━━━━━━━━━\u001b[0m \u001b[32m77.9/77.9 kB\u001b[0m \u001b[31m4.9 MB/s\u001b[0m eta \u001b[36m0:00:00\u001b[0m\n",
            "\u001b[?25hDownloading jiter-0.5.0-cp310-cp310-manylinux_2_17_x86_64.manylinux2014_x86_64.whl (318 kB)\n",
            "\u001b[2K   \u001b[90m━━━━━━━━━━━━━━━━━━━━━━━━━━━━━━━━━━━━━━━━\u001b[0m \u001b[32m318.9/318.9 kB\u001b[0m \u001b[31m10.4 MB/s\u001b[0m eta \u001b[36m0:00:00\u001b[0m\n",
            "\u001b[?25hDownloading h11-0.14.0-py3-none-any.whl (58 kB)\n",
            "\u001b[2K   \u001b[90m━━━━━━━━━━━━━━━━━━━━━━━━━━━━━━━━━━━━━━━━\u001b[0m \u001b[32m58.3/58.3 kB\u001b[0m \u001b[31m3.2 MB/s\u001b[0m eta \u001b[36m0:00:00\u001b[0m\n",
            "\u001b[?25hInstalling collected packages: jiter, h11, httpcore, httpx, anthropic\n",
            "Successfully installed anthropic-0.34.1 h11-0.14.0 httpcore-1.0.5 httpx-0.27.0 jiter-0.5.0\n"
          ]
        }
      ],
      "source": [
        "pip install anthropic"
      ]
    },
    {
      "cell_type": "code",
      "execution_count": 2,
      "id": "ef9de964-9dca-441c-8a0c-f3789c890062",
      "metadata": {
        "id": "ef9de964-9dca-441c-8a0c-f3789c890062"
      },
      "outputs": [],
      "source": [
        "import anthropic\n",
        "import os"
      ]
    },
    {
      "cell_type": "code",
      "execution_count": 3,
      "id": "40385371",
      "metadata": {
        "id": "40385371"
      },
      "outputs": [],
      "source": [
        "# Create the language model with API KEY from Claude\n",
        "llm1 = anthropic.Anthropic(api_key=\"YOUR_API_KEY\")"
      ]
    },
    {
      "cell_type": "code",
      "execution_count": 4,
      "id": "ab115476",
      "metadata": {
        "id": "ab115476"
      },
      "outputs": [],
      "source": [
        "def domestic_market_competition(query, llm):\n",
        "\n",
        "    full_query = f\"\\nUser: {query}\"\n",
        "\n",
        "    system_content = \"\"\"Based on the user's input, respond from the perspective of 'Domestic Market Competition.'\"\"\"\n",
        "\n",
        "    chain = llm.messages.create(\n",
        "        model=\"claude-3-5-sonnet-20240620\",\n",
        "        max_tokens=1000,\n",
        "        system=f\"{system_content}\",\n",
        "        messages=[\n",
        "            {\n",
        "                \"role\": \"user\",\n",
        "                \"content\": [\n",
        "                    {\n",
        "                        \"type\": \"text\",\n",
        "                        \"text\": full_query\n",
        "                    }\n",
        "                ]\n",
        "            }\n",
        "        ]\n",
        "    )\n",
        "\n",
        "    result = chain.content[0].text\n",
        "\n",
        "    return result"
      ]
    },
    {
      "cell_type": "code",
      "execution_count": 5,
      "id": "A75sBMOcZAro",
      "metadata": {
        "id": "A75sBMOcZAro"
      },
      "outputs": [],
      "source": [
        "def price_undercutting(query, llm):\n",
        "\n",
        "    full_query = f\"\\nUser: {query}\"\n",
        "\n",
        "    system_content = \"\"\"Based on the user's input, respond from the perspective of 'Price Undercutting.'\n",
        "                        Effect on Thai producers and small businesses.\n",
        "                        Sectors most vulnerable to Chinese price competition.\"\"\"\n",
        "\n",
        "    chain = llm.messages.create(\n",
        "        model=\"claude-3-5-sonnet-20240620\",\n",
        "        max_tokens=1000,\n",
        "        system=f\"{system_content}\",\n",
        "        messages=[\n",
        "            {\n",
        "                \"role\": \"user\",\n",
        "                \"content\": [\n",
        "                    {\n",
        "                        \"type\": \"text\",\n",
        "                        \"text\": full_query\n",
        "                    }\n",
        "                ]\n",
        "            }\n",
        "        ]\n",
        "    )\n",
        "\n",
        "    result = chain.content[0].text\n",
        "\n",
        "    return result"
      ]
    },
    {
      "cell_type": "code",
      "execution_count": 6,
      "id": "OHR-FkyjZIkN",
      "metadata": {
        "id": "OHR-FkyjZIkN"
      },
      "outputs": [],
      "source": [
        "def market_share_losses(query, llm):\n",
        "\n",
        "    full_query = f\"\\nUser: {query}\"\n",
        "\n",
        "    system_content = \"\"\"Based on the user's input, respond from the perspective of 'Market Share Losses.'\n",
        "                        Displacement of local products by cheaper Chinese alternatives.\n",
        "                        Survival strategies for Thai businesses.\"\"\"\n",
        "\n",
        "    chain = llm.messages.create(\n",
        "        model=\"claude-3-5-sonnet-20240620\",\n",
        "        max_tokens=1000,\n",
        "        system=f\"{system_content}\",\n",
        "        messages=[\n",
        "            {\n",
        "                \"role\": \"user\",\n",
        "                \"content\": [\n",
        "                    {\n",
        "                        \"type\": \"text\",\n",
        "                        \"text\": full_query\n",
        "                    }\n",
        "                ]\n",
        "            }\n",
        "        ]\n",
        "    )\n",
        "\n",
        "    result = chain.content[0].text\n",
        "\n",
        "    return result"
      ]
    },
    {
      "cell_type": "code",
      "execution_count": 7,
      "id": "Q9ICiFa7ZQNO",
      "metadata": {
        "id": "Q9ICiFa7ZQNO"
      },
      "outputs": [],
      "source": [
        "def innovation_and_quality_improvement(query, llm):\n",
        "\n",
        "    full_query = f\"\\nUser: {query}\"\n",
        "\n",
        "    system_content = \"\"\"Based on the user's input, respond from the perspective of 'Innovation and Quality Improvement.'\n",
        "                        Need for innovation in Thai industries to compete on quality rather than price.\n",
        "                        Investments in technology and R&D by Thai companies.\"\"\"\n",
        "\n",
        "    chain = llm.messages.create(\n",
        "        model=\"claude-3-5-sonnet-20240620\",\n",
        "        max_tokens=1000,\n",
        "        system=f\"{system_content}\",\n",
        "        messages=[\n",
        "            {\n",
        "                \"role\": \"user\",\n",
        "                \"content\": [\n",
        "                    {\n",
        "                        \"type\": \"text\",\n",
        "                        \"text\": full_query\n",
        "                    }\n",
        "                ]\n",
        "            }\n",
        "        ]\n",
        "    )\n",
        "\n",
        "    result = chain.content[0].text\n",
        "\n",
        "    return result"
      ]
    },
    {
      "cell_type": "code",
      "execution_count": 8,
      "id": "uFMqR8AFZfRE",
      "metadata": {
        "id": "uFMqR8AFZfRE"
      },
      "outputs": [],
      "source": [
        "def consumer_behavior(query, llm):\n",
        "\n",
        "    full_query = f\"\\nUser: {query}\"\n",
        "\n",
        "    system_content = \"\"\"Based on the user's input, respond from the perspective of 'Consumer Behavior.'\"\"\"\n",
        "\n",
        "    chain = llm.messages.create(\n",
        "        model=\"claude-3-5-sonnet-20240620\",\n",
        "        max_tokens=1000,\n",
        "        system=f\"{system_content}\",\n",
        "        messages=[\n",
        "            {\n",
        "                \"role\": \"user\",\n",
        "                \"content\": [\n",
        "                    {\n",
        "                        \"type\": \"text\",\n",
        "                        \"text\": full_query\n",
        "                    }\n",
        "                ]\n",
        "            }\n",
        "        ]\n",
        "    )\n",
        "\n",
        "    result = chain.content[0].text\n",
        "\n",
        "    return result"
      ]
    },
    {
      "cell_type": "code",
      "execution_count": 9,
      "id": "AQdAhsjLZgnv",
      "metadata": {
        "id": "AQdAhsjLZgnv"
      },
      "outputs": [],
      "source": [
        "def demand_for_cheaper_goods(query, llm):\n",
        "\n",
        "    full_query = f\"\\nUser: {query}\"\n",
        "\n",
        "    system_content = \"\"\"Based on the user's input, respond from the perspective of 'Demand for Cheaper Goods.'\n",
        "                        Shift in consumer preferences toward lower-cost Chinese products.\n",
        "                        Impact on local brands and traditional products.\"\"\"\n",
        "\n",
        "    chain = llm.messages.create(\n",
        "        model=\"claude-3-5-sonnet-20240620\",\n",
        "        max_tokens=1000,\n",
        "        system=f\"{system_content}\",\n",
        "        messages=[\n",
        "            {\n",
        "                \"role\": \"user\",\n",
        "                \"content\": [\n",
        "                    {\n",
        "                        \"type\": \"text\",\n",
        "                        \"text\": full_query\n",
        "                    }\n",
        "                ]\n",
        "            }\n",
        "        ]\n",
        "    )\n",
        "\n",
        "    result = chain.content[0].text\n",
        "\n",
        "    return result"
      ]
    },
    {
      "cell_type": "code",
      "execution_count": 10,
      "id": "6wvxht0bZg1C",
      "metadata": {
        "id": "6wvxht0bZg1C"
      },
      "outputs": [],
      "source": [
        "def disposable_income_and_spending_patterns(query, llm):\n",
        "\n",
        "    full_query = f\"\\nUser: {query}\"\n",
        "\n",
        "    system_content = \"\"\"Based on the user's input, respond from the perspective of 'Disposable Income and Spending Patterns.'\n",
        "                        Increase in consumer spending power due to lower prices.\n",
        "                        Changes in household consumption patterns.\"\"\"\n",
        "\n",
        "    chain = llm.messages.create(\n",
        "        model=\"claude-3-5-sonnet-20240620\",\n",
        "        max_tokens=1000,\n",
        "        system=f\"{system_content}\",\n",
        "        messages=[\n",
        "            {\n",
        "                \"role\": \"user\",\n",
        "                \"content\": [\n",
        "                    {\n",
        "                        \"type\": \"text\",\n",
        "                        \"text\": full_query\n",
        "                    }\n",
        "                ]\n",
        "            }\n",
        "        ]\n",
        "    )\n",
        "\n",
        "    result = chain.content[0].text\n",
        "\n",
        "    return result"
      ]
    },
    {
      "cell_type": "code",
      "execution_count": 11,
      "id": "vAVLW5OpZjAi",
      "metadata": {
        "id": "vAVLW5OpZjAi"
      },
      "outputs": [],
      "source": [
        "def brand_layalty_and_perception(query, llm):\n",
        "\n",
        "    full_query = f\"\\nUser: {query}\"\n",
        "\n",
        "    system_content = \"\"\"Based on the user's input, respond from the perspective of 'Brand Loyalty and Perception.'\n",
        "                        Erosion of brand loyalty for Thai products.\n",
        "                        Perception of Chinese goods in the Thai market.\"\"\"\n",
        "\n",
        "    chain = llm.messages.create(\n",
        "        model=\"claude-3-5-sonnet-20240620\",\n",
        "        max_tokens=1000,\n",
        "        system=f\"{system_content}\",\n",
        "        messages=[\n",
        "            {\n",
        "                \"role\": \"user\",\n",
        "                \"content\": [\n",
        "                    {\n",
        "                        \"type\": \"text\",\n",
        "                        \"text\": full_query\n",
        "                    }\n",
        "                ]\n",
        "            }\n",
        "        ]\n",
        "    )\n",
        "\n",
        "    result = chain.content[0].text\n",
        "\n",
        "    return result"
      ]
    },
    {
      "cell_type": "code",
      "execution_count": 12,
      "id": "C4DY23g6Z_xc",
      "metadata": {
        "id": "C4DY23g6Z_xc"
      },
      "outputs": [],
      "source": [
        "def make_conclusion(query, llm):\n",
        "\n",
        "    full_query = f\"\\nUser: {query}\"\n",
        "\n",
        "    system_content = \"\"\"Based on the user's input, draw the best conclusion\"\"\"\n",
        "\n",
        "    chain = llm.messages.create(\n",
        "        model=\"claude-3-5-sonnet-20240620\",\n",
        "        max_tokens=1000,\n",
        "        system=f\"{system_content}\",\n",
        "        messages=[\n",
        "            {\n",
        "                \"role\": \"user\",\n",
        "                \"content\": [\n",
        "                    {\n",
        "                        \"type\": \"text\",\n",
        "                        \"text\": full_query\n",
        "                    }\n",
        "                ]\n",
        "            }\n",
        "        ]\n",
        "    )\n",
        "\n",
        "    result = chain.content[0].text\n",
        "\n",
        "    return result"
      ]
    },
    {
      "cell_type": "code",
      "execution_count": 13,
      "id": "hCgT1-Vyx33d",
      "metadata": {
        "id": "hCgT1-Vyx33d"
      },
      "outputs": [],
      "source": [
        "def reflection(query, llm):\n",
        "\n",
        "    full_query = f\"\\nUser: {query}\"\n",
        "\n",
        "    system_content = \"\"\"Your role is reflection. Then, write new one with your reflection.\"\"\"\n",
        "\n",
        "    chain = llm.messages.create(\n",
        "        model=\"claude-3-5-sonnet-20240620\",\n",
        "        max_tokens=1000,\n",
        "        system=f\"{system_content}\",\n",
        "        messages=[\n",
        "            {\n",
        "                \"role\": \"user\",\n",
        "                \"content\": [\n",
        "                    {\n",
        "                        \"type\": \"text\",\n",
        "                        \"text\": full_query\n",
        "                    }\n",
        "                ]\n",
        "            }\n",
        "        ]\n",
        "    )\n",
        "\n",
        "    result = chain.content[0].text\n",
        "\n",
        "    return result"
      ]
    },
    {
      "cell_type": "code",
      "execution_count": 14,
      "id": "ee4cdea9",
      "metadata": {
        "id": "ee4cdea9"
      },
      "outputs": [],
      "source": [
        "query = \"What is the potential impact of Chinese price war on Thailand economy?\"\n",
        "\n",
        "response_domestic_market_competition = domestic_market_competition(query, llm1)\n",
        "# reflection\n",
        "reflection_response_domestic_market_competition = reflection(response_domestic_market_competition, llm1)\n",
        "response_price_undercutting = price_undercutting(response_domestic_market_competition, llm1)\n",
        "response_market_share_losses = market_share_losses(response_domestic_market_competition, llm1)\n",
        "response_response_domestic_market_competition = innovation_and_quality_improvement(response_domestic_market_competition, llm1)\n",
        "\n",
        "response_consumer_behavior = consumer_behavior(query, llm1)\n",
        "# reflection\n",
        "reflection_response_consumer_behavior = reflection(response_consumer_behavior, llm1)\n",
        "response_demand_for_cheaper_goods = demand_for_cheaper_goods(response_consumer_behavior, llm1)\n",
        "response_disposable_income_and_spending_patterns = disposable_income_and_spending_patterns(response_consumer_behavior, llm1)\n",
        "response_brand_layalty_and_perception = brand_layalty_and_perception(response_consumer_behavior, llm1)\n",
        "\n",
        "final_query = response_price_undercutting + \\\n",
        "              response_market_share_losses + \\\n",
        "              response_response_domestic_market_competition + \\\n",
        "              response_demand_for_cheaper_goods + \\\n",
        "              response_disposable_income_and_spending_patterns + \\\n",
        "              response_brand_layalty_and_perception\n",
        "\n",
        "final_response = make_conclusion(final_query, llm1)"
      ]
    },
    {
      "cell_type": "code",
      "execution_count": 15,
      "id": "QH9o_CYwY6em",
      "metadata": {
        "colab": {
          "base_uri": "https://localhost:8080/",
          "height": 143
        },
        "id": "QH9o_CYwY6em",
        "outputId": "034813a7-2dd1-45bf-d0d3-7b0a777e4bd1"
      },
      "outputs": [
        {
          "data": {
            "application/vnd.google.colaboratory.intrinsic+json": {
              "type": "string"
            },
            "text/plain": [
              "\"Based on the comprehensive input provided, which covers various perspectives including Price Undercutting, Market Share Losses, Innovation and Quality Improvement, Demand for Cheaper Goods, Disposable Income and Spending Patterns, and Brand Loyalty and Perception, we can draw the following conclusion:\\n\\nThe potential Chinese price war would likely have profound and multifaceted impacts on the Thai economy and consumer behavior. While it presents significant challenges for Thai businesses, particularly in terms of market share losses and pressure on profit margins, it also creates opportunities for innovation and strategic repositioning.\\n\\nKey points:\\n\\n1. Economic Disruption: Thai producers, especially SMEs, will face severe pressure, potentially leading to market consolidation and structural changes in various sectors.\\n\\n2. Consumer Behavior Shift: Thai consumers are likely to benefit from increased purchasing power, potentially altering their spending patterns and savings behavior. This could lead to increased consumption but may also affect loyalty to Thai brands.\\n\\n3. Innovation Imperative: To remain competitive, Thai businesses will need to focus on innovation, quality improvement, and differentiation rather than competing solely on price.\\n\\n4. Sector Vulnerabilities: Certain sectors like electronics, textiles, and low to mid-range manufacturing are particularly vulnerable to Chinese competition.\\n\\n5. Brand Perception Changes: Perceptions of Chinese goods may improve if they offer good quality at lower prices, challenging Thai brands to reinforce their value propositions.\\n\\n6. Government Role: Policy responses will be crucial in supporting Thai industries, promoting innovation, and managing the economic transition.\\n\\n7. Long-term Market Restructuring: The price war could lead to significant changes in Thailand's industrial landscape and its position in global supply chains.\\n\\nIn conclusion, while the price war poses serious challenges to Thai businesses and the economy, it also presents an opportunity for transformation. Success will depend on the ability of Thai companies to innovate, differentiate, and adapt to changing market conditions, as well as on effective government policies to support this transition. The situation underscores the complex interplay between international trade dynamics, consumer behavior, and economic development in an increasingly interconnected global economy.\""
            ]
          },
          "execution_count": 15,
          "metadata": {},
          "output_type": "execute_result"
        }
      ],
      "source": [
        "final_response"
      ]
    }
  ],
  "metadata": {
    "colab": {
      "provenance": []
    },
    "kernelspec": {
      "display_name": "Python 3 (ipykernel)",
      "language": "python",
      "name": "python3"
    },
    "language_info": {
      "codemirror_mode": {
        "name": "ipython",
        "version": 3
      },
      "file_extension": ".py",
      "mimetype": "text/x-python",
      "name": "python",
      "nbconvert_exporter": "python",
      "pygments_lexer": "ipython3",
      "version": "3.11.4"
    }
  },
  "nbformat": 4,
  "nbformat_minor": 5
}
