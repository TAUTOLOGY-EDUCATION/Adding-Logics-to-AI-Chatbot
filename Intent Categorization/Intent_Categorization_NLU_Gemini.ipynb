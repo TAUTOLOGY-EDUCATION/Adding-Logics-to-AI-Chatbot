{
 "cells": [
  {
   "cell_type": "code",
   "execution_count": 1,
   "id": "BGKzwUR8YziM",
   "metadata": {
    "id": "BGKzwUR8YziM"
   },
   "outputs": [],
   "source": [
    "pip install -q -U google-generativeai"
   ]
  },
  {
   "cell_type": "code",
   "execution_count": 2,
   "id": "ef9de964-9dca-441c-8a0c-f3789c890062",
   "metadata": {
    "id": "ef9de964-9dca-441c-8a0c-f3789c890062"
   },
   "outputs": [],
   "source": [
    "import google.generativeai as genai"
   ]
  },
  {
   "cell_type": "code",
   "execution_count": 3,
   "id": "f1a114af",
   "metadata": {
    "id": "f1a114af"
   },
   "outputs": [],
   "source": [
    "# Generate API KEY from Gemini and define as a variable.\n",
    "genai.configure(api_key=\"YOUR_API_KEY\")"
   ]
  },
  {
   "cell_type": "code",
   "execution_count": 4,
   "id": "40385371",
   "metadata": {
    "id": "40385371"
   },
   "outputs": [],
   "source": [
    "# Create the language model\n",
    "system_content = \"\"\"You are intent categorizer. Base on the user's input, answer \"healthcare\" if the user asks about health, healthcare, diseases, or illnesses.\n",
    "                    Answer \"legal\", if the user asks about legal.\n",
    "                    Answer \"education\", if the user asks about education, academic, Pysics, Chemistry, Biology, Mathematics, or otherล subjects.\"\"\"\n",
    "\n",
    "\n",
    "llm1 = genai.GenerativeModel('gemini-1.5-flash', system_instruction=f\"{system_content}\")"
   ]
  },
  {
   "cell_type": "code",
   "execution_count": 5,
   "id": "6db6c437",
   "metadata": {
    "id": "6db6c437"
   },
   "outputs": [],
   "source": [
    "def intent_categorizer(query, llm):\n",
    "    full_query = f\"\\nUser: {query}\"\n",
    "    chain = llm.generate_content(f\"{full_query}\")\n",
    "    result = chain.text\n",
    "    return result"
   ]
  },
  {
   "cell_type": "code",
   "execution_count": 6,
   "id": "878ee030",
   "metadata": {
    "id": "878ee030"
   },
   "outputs": [],
   "source": [
    "def call_admin_healthcare():\n",
    "    print(\"Hello, I'm admin from ABC company who will answer questions about healthcare.\")"
   ]
  },
  {
   "cell_type": "code",
   "execution_count": 7,
   "id": "HT4WgrTzh6gD",
   "metadata": {
    "id": "HT4WgrTzh6gD"
   },
   "outputs": [],
   "source": [
    "def call_admin_legal():\n",
    "    print(\"Hello, I'm admin of ABC company who will answer questions about legal.\")"
   ]
  },
  {
   "cell_type": "code",
   "execution_count": 8,
   "id": "pB-Y35zljxkk",
   "metadata": {
    "id": "pB-Y35zljxkk"
   },
   "outputs": [],
   "source": [
    "def call_admin_education():\n",
    "    print(\"Hello, I'm admin of ABC company who will answer questions about education.\")"
   ]
  },
  {
   "cell_type": "code",
   "execution_count": 9,
   "id": "bcMIpm7pjxnM",
   "metadata": {
    "id": "bcMIpm7pjxnM"
   },
   "outputs": [],
   "source": [
    "def call_admin_others():\n",
    "    print(\"Hello, I'm admin of ABC company.\")"
   ]
  },
  {
   "cell_type": "code",
   "execution_count": 10,
   "id": "ee4cdea9",
   "metadata": {
    "colab": {
     "base_uri": "https://localhost:8080/",
     "height": 392
    },
    "id": "ee4cdea9",
    "outputId": "85b2bb2d-04c3-491c-c09d-0728c73f460f"
   },
   "outputs": [
    {
     "name": "stdout",
     "output_type": "stream",
     "text": [
      "User: explain me deep learning.\n",
      "Intent: education \n",
      "\n",
      "Hello, I'm admin of ABC company who will answer questions about education.\n",
      "User: I have some violent issue with my neighbor. I want to know important things before hiring lawyer.\n",
      "Intent: legal \n",
      "\n",
      "Hello, I'm admin of ABC company who will answer questions about legal.\n",
      "User: I'm suffering from short term memory lose. Can you help me?\n",
      "Intent: healthcare \n",
      "\n",
      "Hello, I'm admin from ABC company who will answer questions about healthcare.\n",
      "User: I have no inspiration to do anything. what should I do?\n",
      "Intent: This is not related to healthcare, legal or education. \n",
      "\n",
      "Hello, I'm admin of ABC company.\n",
      "User: I want to know the weather in Japan now.\n",
      "Intent: None of the above. \n",
      "\n",
      "Hello, I'm admin of ABC company.\n",
      "User: q\n"
     ]
    }
   ],
   "source": [
    "chat_history = []\n",
    "query = None  # Initialize query to avoid potential reference error\n",
    "\n",
    "while True:\n",
    "    if not query:\n",
    "        query = input(\"User: \")\n",
    "    if query in ['quit', 'q', 'exit']:\n",
    "        break\n",
    "\n",
    "    intent = intent_categorizer(query, llm1)\n",
    "    print(\"Intent:\", intent)\n",
    "\n",
    "    if intent.lower().strip() == \"healthcare\":\n",
    "        call_admin_healthcare()\n",
    "    elif intent.lower().strip() == \"legal\":\n",
    "        call_admin_legal()\n",
    "    elif intent.lower().strip() == \"education\":\n",
    "        call_admin_education()\n",
    "    else:\n",
    "        call_admin_others()\n",
    "\n",
    "    query = None"
   ]
  },
  {
   "cell_type": "code",
   "execution_count": 10,
   "id": "QH9o_CYwY6em",
   "metadata": {
    "id": "QH9o_CYwY6em"
   },
   "outputs": [],
   "source": []
  }
 ],
 "metadata": {
  "colab": {
   "provenance": []
  },
  "kernelspec": {
   "display_name": "Python 3 (ipykernel)",
   "language": "python",
   "name": "python3"
  },
  "language_info": {
   "codemirror_mode": {
    "name": "ipython",
    "version": 3
   },
   "file_extension": ".py",
   "mimetype": "text/x-python",
   "name": "python",
   "nbconvert_exporter": "python",
   "pygments_lexer": "ipython3",
   "version": "3.11.7"
  }
 },
 "nbformat": 4,
 "nbformat_minor": 5
}
