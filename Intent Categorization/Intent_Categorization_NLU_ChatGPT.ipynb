{
 "cells": [
  {
   "cell_type": "code",
   "execution_count": 11,
   "id": "BGKzwUR8YziM",
   "metadata": {
    "colab": {
     "base_uri": "https://localhost:8080/"
    },
    "id": "BGKzwUR8YziM",
    "outputId": "be190988-8d94-4690-f62f-0ee6924a42cf"
   },
   "outputs": [
    {
     "name": "stdout",
     "output_type": "stream",
     "text": [
      "Requirement already satisfied: openai in /usr/local/lib/python3.10/dist-packages (1.42.0)\n",
      "Requirement already satisfied: anyio<5,>=3.5.0 in /usr/local/lib/python3.10/dist-packages (from openai) (3.7.1)\n",
      "Requirement already satisfied: distro<2,>=1.7.0 in /usr/lib/python3/dist-packages (from openai) (1.7.0)\n",
      "Requirement already satisfied: httpx<1,>=0.23.0 in /usr/local/lib/python3.10/dist-packages (from openai) (0.27.0)\n",
      "Requirement already satisfied: jiter<1,>=0.4.0 in /usr/local/lib/python3.10/dist-packages (from openai) (0.5.0)\n",
      "Requirement already satisfied: pydantic<3,>=1.9.0 in /usr/local/lib/python3.10/dist-packages (from openai) (2.8.2)\n",
      "Requirement already satisfied: sniffio in /usr/local/lib/python3.10/dist-packages (from openai) (1.3.1)\n",
      "Requirement already satisfied: tqdm>4 in /usr/local/lib/python3.10/dist-packages (from openai) (4.66.5)\n",
      "Requirement already satisfied: typing-extensions<5,>=4.11 in /usr/local/lib/python3.10/dist-packages (from openai) (4.12.2)\n",
      "Requirement already satisfied: idna>=2.8 in /usr/local/lib/python3.10/dist-packages (from anyio<5,>=3.5.0->openai) (3.7)\n",
      "Requirement already satisfied: exceptiongroup in /usr/local/lib/python3.10/dist-packages (from anyio<5,>=3.5.0->openai) (1.2.2)\n",
      "Requirement already satisfied: certifi in /usr/local/lib/python3.10/dist-packages (from httpx<1,>=0.23.0->openai) (2024.7.4)\n",
      "Requirement already satisfied: httpcore==1.* in /usr/local/lib/python3.10/dist-packages (from httpx<1,>=0.23.0->openai) (1.0.5)\n",
      "Requirement already satisfied: h11<0.15,>=0.13 in /usr/local/lib/python3.10/dist-packages (from httpcore==1.*->httpx<1,>=0.23.0->openai) (0.14.0)\n",
      "Requirement already satisfied: annotated-types>=0.4.0 in /usr/local/lib/python3.10/dist-packages (from pydantic<3,>=1.9.0->openai) (0.7.0)\n",
      "Requirement already satisfied: pydantic-core==2.20.1 in /usr/local/lib/python3.10/dist-packages (from pydantic<3,>=1.9.0->openai) (2.20.1)\n"
     ]
    }
   ],
   "source": [
    "pip install openai"
   ]
  },
  {
   "cell_type": "code",
   "execution_count": 12,
   "id": "ef9de964-9dca-441c-8a0c-f3789c890062",
   "metadata": {
    "id": "ef9de964-9dca-441c-8a0c-f3789c890062"
   },
   "outputs": [],
   "source": [
    "from openai import OpenAI\n",
    "import os"
   ]
  },
  {
   "cell_type": "code",
   "execution_count": 13,
   "id": "f1a114af",
   "metadata": {
    "id": "f1a114af"
   },
   "outputs": [],
   "source": [
    "# Generate API KEY from OPENAI website and define as a variable.\n",
    "os.environ[\"OPENAI_API_KEY\"] = \"YOUR_API_KEY\""
   ]
  },
  {
   "cell_type": "code",
   "execution_count": 14,
   "id": "40385371",
   "metadata": {
    "id": "40385371"
   },
   "outputs": [],
   "source": [
    "# Create the language model\n",
    "llm1 = OpenAI()"
   ]
  },
  {
   "cell_type": "code",
   "execution_count": 15,
   "id": "ab115476",
   "metadata": {
    "id": "ab115476"
   },
   "outputs": [],
   "source": [
    "def intent_categorizer(query, llm):\n",
    "\n",
    "    full_query = f\"\\nUser: {query}\"\n",
    "\n",
    "    system_content = \"\"\"You are intent categorizer. Base on the user's input, answer \"healthcare\" if the user asks about health, healthcare, diseases, or illnesses.\n",
    "                        Answer \"legal\", if the user asks about legal.\n",
    "                        Answer \"education\", if the user asks about education, academic, Pysics, Chemistry, Biology, Mathematics, or otherล subjects.\"\"\"\n",
    "\n",
    "    messages = [\n",
    "        {\"role\": \"system\", \"content\": f\"{system_content}\"},\n",
    "        {\"role\": \"user\", \"content\": full_query}\n",
    "    ]\n",
    "\n",
    "    chain1 = llm.chat.completions.create(\n",
    "        model=\"gpt-3.5-turbo-16k\",\n",
    "        messages=messages\n",
    "    )\n",
    "\n",
    "    result = chain1.choices[0].message.content\n",
    "    return result"
   ]
  },
  {
   "cell_type": "code",
   "execution_count": 16,
   "id": "878ee030",
   "metadata": {
    "id": "878ee030"
   },
   "outputs": [],
   "source": [
    "def call_admin_healthcare():\n",
    "    print(\"Hello, I'm admin from ABC company who will answer questions about healthcare.\")"
   ]
  },
  {
   "cell_type": "code",
   "execution_count": 17,
   "id": "HT4WgrTzh6gD",
   "metadata": {
    "id": "HT4WgrTzh6gD"
   },
   "outputs": [],
   "source": [
    "def call_admin_legal():\n",
    "    print(\"Hello, I'm admin of ABC company who will answer questions about legal.\")"
   ]
  },
  {
   "cell_type": "code",
   "execution_count": 18,
   "id": "pB-Y35zljxkk",
   "metadata": {
    "id": "pB-Y35zljxkk"
   },
   "outputs": [],
   "source": [
    "def call_admin_education():\n",
    "    print(\"Hello, I'm admin of ABC company who will answer questions about education.\")"
   ]
  },
  {
   "cell_type": "code",
   "execution_count": 19,
   "id": "bcMIpm7pjxnM",
   "metadata": {
    "id": "bcMIpm7pjxnM"
   },
   "outputs": [],
   "source": [
    "def call_admin_others():\n",
    "    print(\"Hello, I'm admin of ABC company.\")"
   ]
  },
  {
   "cell_type": "code",
   "execution_count": 20,
   "id": "ee4cdea9",
   "metadata": {
    "colab": {
     "base_uri": "https://localhost:8080/"
    },
    "id": "ee4cdea9",
    "outputId": "73fe5e6b-b2e0-4ead-c961-f96e3315658c"
   },
   "outputs": [
    {
     "name": "stdout",
     "output_type": "stream",
     "text": [
      "User: explain me deep learning.\n",
      "Intent: education\n",
      "Hello, I'm admin of ABC company who will answer questions about education.\n",
      "User: I have some violent issue with my neighbor. I want to know important things before hiring lawyer.\n",
      "Intent: legal\n",
      "Hello, I'm admin of ABC company who will answer questions about legal.\n",
      "User: I'm suffering from short term memory lose. Can you help me?\n",
      "Intent: healthcare\n",
      "Hello, I'm admin from ABC company who will answer questions about healthcare.\n",
      "User: I have no inspiration to do anything. what should I do?\n",
      "Intent: healthcare\n",
      "Hello, I'm admin from ABC company who will answer questions about healthcare.\n",
      "User: I want to know the weather in Japan now.\n",
      "Intent: Sorry, I am an Intent Categorizer and can only provide answers related to health, legal, or education topics. Please ask a question related to one of these categories.\n",
      "Hello, I'm admin of ABC company.\n",
      "User: q\n"
     ]
    }
   ],
   "source": [
    "chat_history = []\n",
    "query = None  # Initialize query to avoid potential reference error\n",
    "\n",
    "while True:\n",
    "    if not query:\n",
    "        query = input(\"User: \")\n",
    "    if query in ['quit', 'q', 'exit']:\n",
    "        break\n",
    "\n",
    "    intent = intent_categorizer(query, llm1)\n",
    "    print(\"Intent:\", intent)\n",
    "\n",
    "    if intent.lower().strip() == \"healthcare\":\n",
    "        call_admin_healthcare()\n",
    "    elif intent.lower().strip() == \"legal\":\n",
    "        call_admin_legal()\n",
    "    elif intent.lower().strip() == \"education\":\n",
    "        call_admin_education()\n",
    "    else:\n",
    "        call_admin_others()\n",
    "\n",
    "    query = None"
   ]
  },
  {
   "cell_type": "code",
   "execution_count": 20,
   "id": "QH9o_CYwY6em",
   "metadata": {
    "id": "QH9o_CYwY6em"
   },
   "outputs": [],
   "source": []
  }
 ],
 "metadata": {
  "colab": {
   "provenance": []
  },
  "kernelspec": {
   "display_name": "Python 3 (ipykernel)",
   "language": "python",
   "name": "python3"
  },
  "language_info": {
   "codemirror_mode": {
    "name": "ipython",
    "version": 3
   },
   "file_extension": ".py",
   "mimetype": "text/x-python",
   "name": "python",
   "nbconvert_exporter": "python",
   "pygments_lexer": "ipython3",
   "version": "3.11.7"
  }
 },
 "nbformat": 4,
 "nbformat_minor": 5
}
